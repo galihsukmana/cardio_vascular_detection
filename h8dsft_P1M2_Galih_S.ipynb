{
  "cells": [
    {
      "attachments": {},
      "cell_type": "markdown",
      "metadata": {
        "id": "NHljlVwRo7Qh"
      },
      "source": [
        "## Milestone 2"
      ]
    },
    {
      "attachments": {},
      "cell_type": "markdown",
      "metadata": {},
      "source": [
        "Link deployment : https://huggingface.co/spaces/galihsukmana/ML2"
      ]
    },
    {
      "attachments": {},
      "cell_type": "markdown",
      "metadata": {
        "id": "04V32CYvn83w"
      },
      "source": [
        "## Introduction"
      ]
    },
    {
      "attachments": {},
      "cell_type": "markdown",
      "metadata": {
        "id": "M1lFQHWfoK3j"
      },
      "source": [
        "Nama : Galih Sukmanaputra  \n",
        "\n",
        "Batch : FTDS-005-HCK  \n",
        "\n",
        "Dataset : From https://www.kaggle.com/datasets/bhadaneeraj/cardio-vascular-disease-detection. This dataset explained about the symptoms of each patients who has cardiovasculer diseas.  \n",
        "  \n",
        "Objective : With classification model of machine learning we can predict each patients who got a cardiovasculer diseas or no."
      ]
    },
    {
      "attachments": {},
      "cell_type": "markdown",
      "metadata": {
        "id": "-VsWe7fc7ax_"
      },
      "source": [
        "## Import Libraries"
      ]
    },
    {
      "attachments": {},
      "cell_type": "markdown",
      "metadata": {
        "id": "9xr4f6yUdJVx"
      },
      "source": [
        "Dalam tahapan ini dilakukan import seluruh library yang dibutuhkan"
      ]
    },
    {
      "cell_type": "code",
      "execution_count": 1,
      "metadata": {
        "id": "EGpJnF5W7c6K"
      },
      "outputs": [],
      "source": [
        "# Import Libraries\n",
        "\n",
        "import pandas as pd\n",
        "import numpy as np\n",
        "import matplotlib.pyplot as plt\n",
        "import seaborn as sns\n",
        "\n",
        "from statsmodels.stats.outliers_influence import variance_inflation_factor\n",
        "from sklearn.model_selection import train_test_split\n",
        "from feature_engine.outliers import Winsorizer\n",
        "from sklearn.preprocessing import StandardScaler, MinMaxScaler, OneHotEncoder, OrdinalEncoder\n",
        "from sklearn.pipeline import Pipeline\n",
        "from sklearn.compose import ColumnTransformer\n",
        "from sklearn.linear_model import LogisticRegression\n",
        "from sklearn.svm import SVC\n",
        "from sklearn.tree import DecisionTreeClassifier\n",
        "from sklearn.ensemble import RandomForestClassifier, AdaBoostClassifier, GradientBoostingClassifier\n",
        "from sklearn.neighbors import KNeighborsClassifier\n",
        "from sklearn.model_selection import GridSearchCV,RandomizedSearchCV,cross_val_score\n",
        "from sklearn.metrics import recall_score,accuracy_score,classification_report,ConfusionMatrixDisplay,confusion_matrix\n",
        "\n",
        "import warnings\n",
        "warnings.filterwarnings(action='ignore')"
      ]
    },
    {
      "attachments": {},
      "cell_type": "markdown",
      "metadata": {
        "id": "_ttJxnRmCi-9"
      },
      "source": [
        "## Data Loading"
      ]
    },
    {
      "attachments": {},
      "cell_type": "markdown",
      "metadata": {
        "id": "sme1Ln-qc3g-"
      },
      "source": [
        "Looking for feature and target from dataset"
      ]
    },
    {
      "cell_type": "code",
      "execution_count": 2,
      "metadata": {
        "colab": {
          "base_uri": "https://localhost:8080/",
          "height": 540
        },
        "id": "UBsWZInCB9mx",
        "outputId": "852c1ba8-2f11-4d6f-fe92-7b70b5c15761"
      },
      "outputs": [
        {
          "data": {
            "text/html": [
              "<div>\n",
              "<style scoped>\n",
              "    .dataframe tbody tr th:only-of-type {\n",
              "        vertical-align: middle;\n",
              "    }\n",
              "\n",
              "    .dataframe tbody tr th {\n",
              "        vertical-align: top;\n",
              "    }\n",
              "\n",
              "    .dataframe thead th {\n",
              "        text-align: right;\n",
              "    }\n",
              "</style>\n",
              "<table border=\"1\" class=\"dataframe\">\n",
              "  <thead>\n",
              "    <tr style=\"text-align: right;\">\n",
              "      <th></th>\n",
              "      <th>id</th>\n",
              "      <th>age</th>\n",
              "      <th>gender</th>\n",
              "      <th>height</th>\n",
              "      <th>weight</th>\n",
              "      <th>ap_hi</th>\n",
              "      <th>ap_lo</th>\n",
              "      <th>cholesterol</th>\n",
              "      <th>gluc</th>\n",
              "      <th>smoke</th>\n",
              "      <th>alco</th>\n",
              "      <th>active</th>\n",
              "      <th>cardio</th>\n",
              "    </tr>\n",
              "  </thead>\n",
              "  <tbody>\n",
              "    <tr>\n",
              "      <th>0</th>\n",
              "      <td>988</td>\n",
              "      <td>22469</td>\n",
              "      <td>1</td>\n",
              "      <td>155</td>\n",
              "      <td>69.0</td>\n",
              "      <td>130</td>\n",
              "      <td>80</td>\n",
              "      <td>2</td>\n",
              "      <td>2</td>\n",
              "      <td>0</td>\n",
              "      <td>0</td>\n",
              "      <td>1</td>\n",
              "      <td>0</td>\n",
              "    </tr>\n",
              "    <tr>\n",
              "      <th>1</th>\n",
              "      <td>989</td>\n",
              "      <td>14648</td>\n",
              "      <td>1</td>\n",
              "      <td>163</td>\n",
              "      <td>71.0</td>\n",
              "      <td>110</td>\n",
              "      <td>70</td>\n",
              "      <td>1</td>\n",
              "      <td>1</td>\n",
              "      <td>0</td>\n",
              "      <td>0</td>\n",
              "      <td>1</td>\n",
              "      <td>1</td>\n",
              "    </tr>\n",
              "    <tr>\n",
              "      <th>2</th>\n",
              "      <td>990</td>\n",
              "      <td>21901</td>\n",
              "      <td>1</td>\n",
              "      <td>165</td>\n",
              "      <td>70.0</td>\n",
              "      <td>120</td>\n",
              "      <td>80</td>\n",
              "      <td>1</td>\n",
              "      <td>1</td>\n",
              "      <td>0</td>\n",
              "      <td>0</td>\n",
              "      <td>1</td>\n",
              "      <td>0</td>\n",
              "    </tr>\n",
              "    <tr>\n",
              "      <th>3</th>\n",
              "      <td>991</td>\n",
              "      <td>14549</td>\n",
              "      <td>2</td>\n",
              "      <td>165</td>\n",
              "      <td>85.0</td>\n",
              "      <td>120</td>\n",
              "      <td>80</td>\n",
              "      <td>1</td>\n",
              "      <td>1</td>\n",
              "      <td>1</td>\n",
              "      <td>1</td>\n",
              "      <td>1</td>\n",
              "      <td>0</td>\n",
              "    </tr>\n",
              "    <tr>\n",
              "      <th>4</th>\n",
              "      <td>992</td>\n",
              "      <td>23393</td>\n",
              "      <td>1</td>\n",
              "      <td>155</td>\n",
              "      <td>62.0</td>\n",
              "      <td>120</td>\n",
              "      <td>80</td>\n",
              "      <td>1</td>\n",
              "      <td>1</td>\n",
              "      <td>0</td>\n",
              "      <td>0</td>\n",
              "      <td>1</td>\n",
              "      <td>0</td>\n",
              "    </tr>\n",
              "  </tbody>\n",
              "</table>\n",
              "</div>"
            ],
            "text/plain": [
              "    id    age  gender  height  weight  ap_hi  ap_lo  cholesterol  gluc  smoke  \\\n",
              "0  988  22469       1     155    69.0    130     80            2     2      0   \n",
              "1  989  14648       1     163    71.0    110     70            1     1      0   \n",
              "2  990  21901       1     165    70.0    120     80            1     1      0   \n",
              "3  991  14549       2     165    85.0    120     80            1     1      1   \n",
              "4  992  23393       1     155    62.0    120     80            1     1      0   \n",
              "\n",
              "   alco  active  cardio  \n",
              "0     0       1       0  \n",
              "1     0       1       1  \n",
              "2     0       1       0  \n",
              "3     1       1       0  \n",
              "4     0       1       0  "
            ]
          },
          "execution_count": 2,
          "metadata": {},
          "output_type": "execute_result"
        }
      ],
      "source": [
        "# Load Dataset\n",
        "\n",
        "data = pd.read_csv(\"cardio_train.csv\",sep=';')\n",
        "data.head()"
      ]
    },
    {
      "cell_type": "code",
      "execution_count": 3,
      "metadata": {},
      "outputs": [
        {
          "data": {
            "text/html": [
              "<div>\n",
              "<style scoped>\n",
              "    .dataframe tbody tr th:only-of-type {\n",
              "        vertical-align: middle;\n",
              "    }\n",
              "\n",
              "    .dataframe tbody tr th {\n",
              "        vertical-align: top;\n",
              "    }\n",
              "\n",
              "    .dataframe thead th {\n",
              "        text-align: right;\n",
              "    }\n",
              "</style>\n",
              "<table border=\"1\" class=\"dataframe\">\n",
              "  <thead>\n",
              "    <tr style=\"text-align: right;\">\n",
              "      <th></th>\n",
              "      <th>id</th>\n",
              "      <th>age</th>\n",
              "      <th>gender</th>\n",
              "      <th>height</th>\n",
              "      <th>weight</th>\n",
              "      <th>ap_hi</th>\n",
              "      <th>ap_lo</th>\n",
              "      <th>cholesterol</th>\n",
              "      <th>gluc</th>\n",
              "      <th>smoke</th>\n",
              "      <th>alco</th>\n",
              "      <th>active</th>\n",
              "      <th>cardio</th>\n",
              "    </tr>\n",
              "  </thead>\n",
              "  <tbody>\n",
              "    <tr>\n",
              "      <th>69296</th>\n",
              "      <td>99993</td>\n",
              "      <td>19240</td>\n",
              "      <td>2</td>\n",
              "      <td>168</td>\n",
              "      <td>76.0</td>\n",
              "      <td>120</td>\n",
              "      <td>80</td>\n",
              "      <td>1</td>\n",
              "      <td>1</td>\n",
              "      <td>1</td>\n",
              "      <td>0</td>\n",
              "      <td>1</td>\n",
              "      <td>0</td>\n",
              "    </tr>\n",
              "    <tr>\n",
              "      <th>69297</th>\n",
              "      <td>99995</td>\n",
              "      <td>22601</td>\n",
              "      <td>1</td>\n",
              "      <td>158</td>\n",
              "      <td>126.0</td>\n",
              "      <td>140</td>\n",
              "      <td>90</td>\n",
              "      <td>2</td>\n",
              "      <td>2</td>\n",
              "      <td>0</td>\n",
              "      <td>0</td>\n",
              "      <td>1</td>\n",
              "      <td>1</td>\n",
              "    </tr>\n",
              "    <tr>\n",
              "      <th>69298</th>\n",
              "      <td>99996</td>\n",
              "      <td>19066</td>\n",
              "      <td>2</td>\n",
              "      <td>183</td>\n",
              "      <td>105.0</td>\n",
              "      <td>180</td>\n",
              "      <td>90</td>\n",
              "      <td>3</td>\n",
              "      <td>1</td>\n",
              "      <td>0</td>\n",
              "      <td>1</td>\n",
              "      <td>0</td>\n",
              "      <td>1</td>\n",
              "    </tr>\n",
              "    <tr>\n",
              "      <th>69299</th>\n",
              "      <td>99998</td>\n",
              "      <td>22431</td>\n",
              "      <td>1</td>\n",
              "      <td>163</td>\n",
              "      <td>72.0</td>\n",
              "      <td>135</td>\n",
              "      <td>80</td>\n",
              "      <td>1</td>\n",
              "      <td>2</td>\n",
              "      <td>0</td>\n",
              "      <td>0</td>\n",
              "      <td>0</td>\n",
              "      <td>1</td>\n",
              "    </tr>\n",
              "    <tr>\n",
              "      <th>69300</th>\n",
              "      <td>99999</td>\n",
              "      <td>20540</td>\n",
              "      <td>1</td>\n",
              "      <td>170</td>\n",
              "      <td>72.0</td>\n",
              "      <td>120</td>\n",
              "      <td>80</td>\n",
              "      <td>2</td>\n",
              "      <td>1</td>\n",
              "      <td>0</td>\n",
              "      <td>0</td>\n",
              "      <td>1</td>\n",
              "      <td>0</td>\n",
              "    </tr>\n",
              "  </tbody>\n",
              "</table>\n",
              "</div>"
            ],
            "text/plain": [
              "          id    age  gender  height  weight  ap_hi  ap_lo  cholesterol  gluc  \\\n",
              "69296  99993  19240       2     168    76.0    120     80            1     1   \n",
              "69297  99995  22601       1     158   126.0    140     90            2     2   \n",
              "69298  99996  19066       2     183   105.0    180     90            3     1   \n",
              "69299  99998  22431       1     163    72.0    135     80            1     2   \n",
              "69300  99999  20540       1     170    72.0    120     80            2     1   \n",
              "\n",
              "       smoke  alco  active  cardio  \n",
              "69296      1     0       1       0  \n",
              "69297      0     0       1       1  \n",
              "69298      0     1       0       1  \n",
              "69299      0     0       0       1  \n",
              "69300      0     0       1       0  "
            ]
          },
          "execution_count": 3,
          "metadata": {},
          "output_type": "execute_result"
        }
      ],
      "source": [
        "data.tail()"
      ]
    },
    {
      "cell_type": "code",
      "execution_count": 4,
      "metadata": {
        "colab": {
          "base_uri": "https://localhost:8080/",
          "height": 130
        },
        "id": "sTayGSFdCyG0",
        "outputId": "61772d6b-e33f-4eef-a2b5-abb52b56d451"
      },
      "outputs": [
        {
          "data": {
            "text/html": [
              "<div>\n",
              "<style scoped>\n",
              "    .dataframe tbody tr th:only-of-type {\n",
              "        vertical-align: middle;\n",
              "    }\n",
              "\n",
              "    .dataframe tbody tr th {\n",
              "        vertical-align: top;\n",
              "    }\n",
              "\n",
              "    .dataframe thead th {\n",
              "        text-align: right;\n",
              "    }\n",
              "</style>\n",
              "<table border=\"1\" class=\"dataframe\">\n",
              "  <thead>\n",
              "    <tr style=\"text-align: right;\">\n",
              "      <th></th>\n",
              "      <th>id</th>\n",
              "      <th>age</th>\n",
              "      <th>gender</th>\n",
              "      <th>height</th>\n",
              "      <th>weight</th>\n",
              "      <th>ap_hi</th>\n",
              "      <th>ap_lo</th>\n",
              "      <th>cholesterol</th>\n",
              "      <th>gluc</th>\n",
              "      <th>smoke</th>\n",
              "      <th>alco</th>\n",
              "      <th>active</th>\n",
              "      <th>cardio</th>\n",
              "    </tr>\n",
              "  </thead>\n",
              "  <tbody>\n",
              "  </tbody>\n",
              "</table>\n",
              "</div>"
            ],
            "text/plain": [
              "Empty DataFrame\n",
              "Columns: [id, age, gender, height, weight, ap_hi, ap_lo, cholesterol, gluc, smoke, alco, active, cardio]\n",
              "Index: []"
            ]
          },
          "execution_count": 4,
          "metadata": {},
          "output_type": "execute_result"
        }
      ],
      "source": [
        "data[data.duplicated()]"
      ]
    },
    {
      "attachments": {},
      "cell_type": "markdown",
      "metadata": {},
      "source": [
        "There is no duplication"
      ]
    },
    {
      "cell_type": "code",
      "execution_count": 5,
      "metadata": {
        "id": "C0WV2Jx9EYPW"
      },
      "outputs": [],
      "source": [
        "# Duplikasi dataset\n",
        "data_duplicate = data.copy()"
      ]
    },
    {
      "attachments": {},
      "cell_type": "markdown",
      "metadata": {},
      "source": [
        "Duplicating basic data"
      ]
    },
    {
      "cell_type": "code",
      "execution_count": 6,
      "metadata": {
        "colab": {
          "base_uri": "https://localhost:8080/"
        },
        "id": "QeNmStDqaHFA",
        "outputId": "9bcc6892-bdc4-44d9-8cd8-d6626bda0dda"
      },
      "outputs": [
        {
          "name": "stdout",
          "output_type": "stream",
          "text": [
            "<class 'pandas.core.frame.DataFrame'>\n",
            "RangeIndex: 69301 entries, 0 to 69300\n",
            "Data columns (total 13 columns):\n",
            " #   Column       Non-Null Count  Dtype  \n",
            "---  ------       --------------  -----  \n",
            " 0   id           69301 non-null  int64  \n",
            " 1   age          69301 non-null  int64  \n",
            " 2   gender       69301 non-null  int64  \n",
            " 3   height       69301 non-null  int64  \n",
            " 4   weight       69301 non-null  float64\n",
            " 5   ap_hi        69301 non-null  int64  \n",
            " 6   ap_lo        69301 non-null  int64  \n",
            " 7   cholesterol  69301 non-null  int64  \n",
            " 8   gluc         69301 non-null  int64  \n",
            " 9   smoke        69301 non-null  int64  \n",
            " 10  alco         69301 non-null  int64  \n",
            " 11  active       69301 non-null  int64  \n",
            " 12  cardio       69301 non-null  int64  \n",
            "dtypes: float64(1), int64(12)\n",
            "memory usage: 6.9 MB\n"
          ]
        }
      ],
      "source": [
        "# Check Dataset-1\n",
        "data.info()"
      ]
    },
    {
      "attachments": {},
      "cell_type": "markdown",
      "metadata": {},
      "source": [
        "Looking for type and information from each columns"
      ]
    },
    {
      "cell_type": "code",
      "execution_count": 7,
      "metadata": {},
      "outputs": [
        {
          "data": {
            "text/plain": [
              "id             0.0\n",
              "age            0.0\n",
              "gender         0.0\n",
              "height         0.0\n",
              "weight         0.0\n",
              "ap_hi          0.0\n",
              "ap_lo          0.0\n",
              "cholesterol    0.0\n",
              "gluc           0.0\n",
              "smoke          0.0\n",
              "alco           0.0\n",
              "active         0.0\n",
              "cardio         0.0\n",
              "dtype: float64"
            ]
          },
          "execution_count": 7,
          "metadata": {},
          "output_type": "execute_result"
        }
      ],
      "source": [
        "data.isnull().sum() / data.shape[0] * 100"
      ]
    },
    {
      "attachments": {},
      "cell_type": "markdown",
      "metadata": {},
      "source": [
        "There is no missing value in dataset."
      ]
    },
    {
      "attachments": {},
      "cell_type": "markdown",
      "metadata": {},
      "source": [
        "### Data Cleaning"
      ]
    },
    {
      "cell_type": "code",
      "execution_count": 8,
      "metadata": {},
      "outputs": [],
      "source": [
        "age_year = data.age/365\n",
        "age_tr = round(age_year)"
      ]
    },
    {
      "attachments": {},
      "cell_type": "markdown",
      "metadata": {},
      "source": [
        "Transform age in days into year"
      ]
    },
    {
      "cell_type": "code",
      "execution_count": 9,
      "metadata": {},
      "outputs": [],
      "source": [
        "data.age = age_tr"
      ]
    },
    {
      "cell_type": "code",
      "execution_count": 10,
      "metadata": {},
      "outputs": [
        {
          "data": {
            "text/html": [
              "<div>\n",
              "<style scoped>\n",
              "    .dataframe tbody tr th:only-of-type {\n",
              "        vertical-align: middle;\n",
              "    }\n",
              "\n",
              "    .dataframe tbody tr th {\n",
              "        vertical-align: top;\n",
              "    }\n",
              "\n",
              "    .dataframe thead th {\n",
              "        text-align: right;\n",
              "    }\n",
              "</style>\n",
              "<table border=\"1\" class=\"dataframe\">\n",
              "  <thead>\n",
              "    <tr style=\"text-align: right;\">\n",
              "      <th></th>\n",
              "      <th>id</th>\n",
              "      <th>age</th>\n",
              "      <th>gender</th>\n",
              "      <th>height</th>\n",
              "      <th>weight</th>\n",
              "      <th>ap_hi</th>\n",
              "      <th>ap_lo</th>\n",
              "      <th>cholesterol</th>\n",
              "      <th>gluc</th>\n",
              "      <th>smoke</th>\n",
              "      <th>alco</th>\n",
              "      <th>active</th>\n",
              "      <th>cardio</th>\n",
              "    </tr>\n",
              "  </thead>\n",
              "  <tbody>\n",
              "    <tr>\n",
              "      <th>0</th>\n",
              "      <td>988</td>\n",
              "      <td>62.0</td>\n",
              "      <td>1</td>\n",
              "      <td>155</td>\n",
              "      <td>69.0</td>\n",
              "      <td>130</td>\n",
              "      <td>80</td>\n",
              "      <td>2</td>\n",
              "      <td>2</td>\n",
              "      <td>0</td>\n",
              "      <td>0</td>\n",
              "      <td>1</td>\n",
              "      <td>0</td>\n",
              "    </tr>\n",
              "    <tr>\n",
              "      <th>1</th>\n",
              "      <td>989</td>\n",
              "      <td>40.0</td>\n",
              "      <td>1</td>\n",
              "      <td>163</td>\n",
              "      <td>71.0</td>\n",
              "      <td>110</td>\n",
              "      <td>70</td>\n",
              "      <td>1</td>\n",
              "      <td>1</td>\n",
              "      <td>0</td>\n",
              "      <td>0</td>\n",
              "      <td>1</td>\n",
              "      <td>1</td>\n",
              "    </tr>\n",
              "    <tr>\n",
              "      <th>2</th>\n",
              "      <td>990</td>\n",
              "      <td>60.0</td>\n",
              "      <td>1</td>\n",
              "      <td>165</td>\n",
              "      <td>70.0</td>\n",
              "      <td>120</td>\n",
              "      <td>80</td>\n",
              "      <td>1</td>\n",
              "      <td>1</td>\n",
              "      <td>0</td>\n",
              "      <td>0</td>\n",
              "      <td>1</td>\n",
              "      <td>0</td>\n",
              "    </tr>\n",
              "    <tr>\n",
              "      <th>3</th>\n",
              "      <td>991</td>\n",
              "      <td>40.0</td>\n",
              "      <td>2</td>\n",
              "      <td>165</td>\n",
              "      <td>85.0</td>\n",
              "      <td>120</td>\n",
              "      <td>80</td>\n",
              "      <td>1</td>\n",
              "      <td>1</td>\n",
              "      <td>1</td>\n",
              "      <td>1</td>\n",
              "      <td>1</td>\n",
              "      <td>0</td>\n",
              "    </tr>\n",
              "    <tr>\n",
              "      <th>4</th>\n",
              "      <td>992</td>\n",
              "      <td>64.0</td>\n",
              "      <td>1</td>\n",
              "      <td>155</td>\n",
              "      <td>62.0</td>\n",
              "      <td>120</td>\n",
              "      <td>80</td>\n",
              "      <td>1</td>\n",
              "      <td>1</td>\n",
              "      <td>0</td>\n",
              "      <td>0</td>\n",
              "      <td>1</td>\n",
              "      <td>0</td>\n",
              "    </tr>\n",
              "    <tr>\n",
              "      <th>...</th>\n",
              "      <td>...</td>\n",
              "      <td>...</td>\n",
              "      <td>...</td>\n",
              "      <td>...</td>\n",
              "      <td>...</td>\n",
              "      <td>...</td>\n",
              "      <td>...</td>\n",
              "      <td>...</td>\n",
              "      <td>...</td>\n",
              "      <td>...</td>\n",
              "      <td>...</td>\n",
              "      <td>...</td>\n",
              "      <td>...</td>\n",
              "    </tr>\n",
              "    <tr>\n",
              "      <th>69296</th>\n",
              "      <td>99993</td>\n",
              "      <td>53.0</td>\n",
              "      <td>2</td>\n",
              "      <td>168</td>\n",
              "      <td>76.0</td>\n",
              "      <td>120</td>\n",
              "      <td>80</td>\n",
              "      <td>1</td>\n",
              "      <td>1</td>\n",
              "      <td>1</td>\n",
              "      <td>0</td>\n",
              "      <td>1</td>\n",
              "      <td>0</td>\n",
              "    </tr>\n",
              "    <tr>\n",
              "      <th>69297</th>\n",
              "      <td>99995</td>\n",
              "      <td>62.0</td>\n",
              "      <td>1</td>\n",
              "      <td>158</td>\n",
              "      <td>126.0</td>\n",
              "      <td>140</td>\n",
              "      <td>90</td>\n",
              "      <td>2</td>\n",
              "      <td>2</td>\n",
              "      <td>0</td>\n",
              "      <td>0</td>\n",
              "      <td>1</td>\n",
              "      <td>1</td>\n",
              "    </tr>\n",
              "    <tr>\n",
              "      <th>69298</th>\n",
              "      <td>99996</td>\n",
              "      <td>52.0</td>\n",
              "      <td>2</td>\n",
              "      <td>183</td>\n",
              "      <td>105.0</td>\n",
              "      <td>180</td>\n",
              "      <td>90</td>\n",
              "      <td>3</td>\n",
              "      <td>1</td>\n",
              "      <td>0</td>\n",
              "      <td>1</td>\n",
              "      <td>0</td>\n",
              "      <td>1</td>\n",
              "    </tr>\n",
              "    <tr>\n",
              "      <th>69299</th>\n",
              "      <td>99998</td>\n",
              "      <td>61.0</td>\n",
              "      <td>1</td>\n",
              "      <td>163</td>\n",
              "      <td>72.0</td>\n",
              "      <td>135</td>\n",
              "      <td>80</td>\n",
              "      <td>1</td>\n",
              "      <td>2</td>\n",
              "      <td>0</td>\n",
              "      <td>0</td>\n",
              "      <td>0</td>\n",
              "      <td>1</td>\n",
              "    </tr>\n",
              "    <tr>\n",
              "      <th>69300</th>\n",
              "      <td>99999</td>\n",
              "      <td>56.0</td>\n",
              "      <td>1</td>\n",
              "      <td>170</td>\n",
              "      <td>72.0</td>\n",
              "      <td>120</td>\n",
              "      <td>80</td>\n",
              "      <td>2</td>\n",
              "      <td>1</td>\n",
              "      <td>0</td>\n",
              "      <td>0</td>\n",
              "      <td>1</td>\n",
              "      <td>0</td>\n",
              "    </tr>\n",
              "  </tbody>\n",
              "</table>\n",
              "<p>69301 rows × 13 columns</p>\n",
              "</div>"
            ],
            "text/plain": [
              "          id   age  gender  height  weight  ap_hi  ap_lo  cholesterol  gluc  \\\n",
              "0        988  62.0       1     155    69.0    130     80            2     2   \n",
              "1        989  40.0       1     163    71.0    110     70            1     1   \n",
              "2        990  60.0       1     165    70.0    120     80            1     1   \n",
              "3        991  40.0       2     165    85.0    120     80            1     1   \n",
              "4        992  64.0       1     155    62.0    120     80            1     1   \n",
              "...      ...   ...     ...     ...     ...    ...    ...          ...   ...   \n",
              "69296  99993  53.0       2     168    76.0    120     80            1     1   \n",
              "69297  99995  62.0       1     158   126.0    140     90            2     2   \n",
              "69298  99996  52.0       2     183   105.0    180     90            3     1   \n",
              "69299  99998  61.0       1     163    72.0    135     80            1     2   \n",
              "69300  99999  56.0       1     170    72.0    120     80            2     1   \n",
              "\n",
              "       smoke  alco  active  cardio  \n",
              "0          0     0       1       0  \n",
              "1          0     0       1       1  \n",
              "2          0     0       1       0  \n",
              "3          1     1       1       0  \n",
              "4          0     0       1       0  \n",
              "...      ...   ...     ...     ...  \n",
              "69296      1     0       1       0  \n",
              "69297      0     0       1       1  \n",
              "69298      0     1       0       1  \n",
              "69299      0     0       0       1  \n",
              "69300      0     0       1       0  \n",
              "\n",
              "[69301 rows x 13 columns]"
            ]
          },
          "execution_count": 10,
          "metadata": {},
          "output_type": "execute_result"
        }
      ],
      "source": [
        "data"
      ]
    },
    {
      "cell_type": "code",
      "execution_count": 11,
      "metadata": {},
      "outputs": [],
      "source": [
        "gender = data.gender.astype('object')\n",
        "data.gender = gender"
      ]
    },
    {
      "attachments": {},
      "cell_type": "markdown",
      "metadata": {},
      "source": [
        "transform data type of gender because there is no different between male and female."
      ]
    },
    {
      "cell_type": "code",
      "execution_count": 12,
      "metadata": {},
      "outputs": [],
      "source": [
        "data.drop('id',axis=1,inplace=True)"
      ]
    },
    {
      "attachments": {},
      "cell_type": "markdown",
      "metadata": {},
      "source": [
        "dropping 'id' column. because all of them are unique"
      ]
    },
    {
      "cell_type": "code",
      "execution_count": 13,
      "metadata": {},
      "outputs": [],
      "source": [
        "num_col = data.describe().columns.tolist()\n",
        "cat_col = data.select_dtypes(include=['object']).columns.tolist()"
      ]
    },
    {
      "attachments": {},
      "cell_type": "markdown",
      "metadata": {},
      "source": [
        "Splitting numerical and categorical columns"
      ]
    },
    {
      "cell_type": "code",
      "execution_count": 14,
      "metadata": {},
      "outputs": [
        {
          "data": {
            "text/html": [
              "<div>\n",
              "<style scoped>\n",
              "    .dataframe tbody tr th:only-of-type {\n",
              "        vertical-align: middle;\n",
              "    }\n",
              "\n",
              "    .dataframe tbody tr th {\n",
              "        vertical-align: top;\n",
              "    }\n",
              "\n",
              "    .dataframe thead th {\n",
              "        text-align: right;\n",
              "    }\n",
              "</style>\n",
              "<table border=\"1\" class=\"dataframe\">\n",
              "  <thead>\n",
              "    <tr style=\"text-align: right;\">\n",
              "      <th></th>\n",
              "      <th>count</th>\n",
              "      <th>mean</th>\n",
              "      <th>std</th>\n",
              "      <th>min</th>\n",
              "      <th>25%</th>\n",
              "      <th>50%</th>\n",
              "      <th>75%</th>\n",
              "      <th>max</th>\n",
              "    </tr>\n",
              "  </thead>\n",
              "  <tbody>\n",
              "    <tr>\n",
              "      <th>age</th>\n",
              "      <td>69301.0</td>\n",
              "      <td>53.338177</td>\n",
              "      <td>6.765427</td>\n",
              "      <td>30.0</td>\n",
              "      <td>48.0</td>\n",
              "      <td>54.0</td>\n",
              "      <td>58.0</td>\n",
              "      <td>65.0</td>\n",
              "    </tr>\n",
              "    <tr>\n",
              "      <th>height</th>\n",
              "      <td>69301.0</td>\n",
              "      <td>164.362217</td>\n",
              "      <td>8.205337</td>\n",
              "      <td>55.0</td>\n",
              "      <td>159.0</td>\n",
              "      <td>165.0</td>\n",
              "      <td>170.0</td>\n",
              "      <td>250.0</td>\n",
              "    </tr>\n",
              "    <tr>\n",
              "      <th>weight</th>\n",
              "      <td>69301.0</td>\n",
              "      <td>74.203027</td>\n",
              "      <td>14.383469</td>\n",
              "      <td>10.0</td>\n",
              "      <td>65.0</td>\n",
              "      <td>72.0</td>\n",
              "      <td>82.0</td>\n",
              "      <td>200.0</td>\n",
              "    </tr>\n",
              "    <tr>\n",
              "      <th>ap_hi</th>\n",
              "      <td>69301.0</td>\n",
              "      <td>128.829584</td>\n",
              "      <td>154.775805</td>\n",
              "      <td>-150.0</td>\n",
              "      <td>120.0</td>\n",
              "      <td>120.0</td>\n",
              "      <td>140.0</td>\n",
              "      <td>16020.0</td>\n",
              "    </tr>\n",
              "    <tr>\n",
              "      <th>ap_lo</th>\n",
              "      <td>69301.0</td>\n",
              "      <td>96.650092</td>\n",
              "      <td>189.096240</td>\n",
              "      <td>-70.0</td>\n",
              "      <td>80.0</td>\n",
              "      <td>80.0</td>\n",
              "      <td>90.0</td>\n",
              "      <td>11000.0</td>\n",
              "    </tr>\n",
              "    <tr>\n",
              "      <th>cholesterol</th>\n",
              "      <td>69301.0</td>\n",
              "      <td>1.366806</td>\n",
              "      <td>0.680270</td>\n",
              "      <td>1.0</td>\n",
              "      <td>1.0</td>\n",
              "      <td>1.0</td>\n",
              "      <td>2.0</td>\n",
              "      <td>3.0</td>\n",
              "    </tr>\n",
              "    <tr>\n",
              "      <th>gluc</th>\n",
              "      <td>69301.0</td>\n",
              "      <td>1.226447</td>\n",
              "      <td>0.572246</td>\n",
              "      <td>1.0</td>\n",
              "      <td>1.0</td>\n",
              "      <td>1.0</td>\n",
              "      <td>1.0</td>\n",
              "      <td>3.0</td>\n",
              "    </tr>\n",
              "    <tr>\n",
              "      <th>smoke</th>\n",
              "      <td>69301.0</td>\n",
              "      <td>0.088051</td>\n",
              "      <td>0.283371</td>\n",
              "      <td>0.0</td>\n",
              "      <td>0.0</td>\n",
              "      <td>0.0</td>\n",
              "      <td>0.0</td>\n",
              "      <td>1.0</td>\n",
              "    </tr>\n",
              "    <tr>\n",
              "      <th>alco</th>\n",
              "      <td>69301.0</td>\n",
              "      <td>0.053881</td>\n",
              "      <td>0.225784</td>\n",
              "      <td>0.0</td>\n",
              "      <td>0.0</td>\n",
              "      <td>0.0</td>\n",
              "      <td>0.0</td>\n",
              "      <td>1.0</td>\n",
              "    </tr>\n",
              "    <tr>\n",
              "      <th>active</th>\n",
              "      <td>69301.0</td>\n",
              "      <td>0.803986</td>\n",
              "      <td>0.396982</td>\n",
              "      <td>0.0</td>\n",
              "      <td>1.0</td>\n",
              "      <td>1.0</td>\n",
              "      <td>1.0</td>\n",
              "      <td>1.0</td>\n",
              "    </tr>\n",
              "    <tr>\n",
              "      <th>cardio</th>\n",
              "      <td>69301.0</td>\n",
              "      <td>0.499589</td>\n",
              "      <td>0.500003</td>\n",
              "      <td>0.0</td>\n",
              "      <td>0.0</td>\n",
              "      <td>0.0</td>\n",
              "      <td>1.0</td>\n",
              "      <td>1.0</td>\n",
              "    </tr>\n",
              "  </tbody>\n",
              "</table>\n",
              "</div>"
            ],
            "text/plain": [
              "               count        mean         std    min    25%    50%    75%  \\\n",
              "age          69301.0   53.338177    6.765427   30.0   48.0   54.0   58.0   \n",
              "height       69301.0  164.362217    8.205337   55.0  159.0  165.0  170.0   \n",
              "weight       69301.0   74.203027   14.383469   10.0   65.0   72.0   82.0   \n",
              "ap_hi        69301.0  128.829584  154.775805 -150.0  120.0  120.0  140.0   \n",
              "ap_lo        69301.0   96.650092  189.096240  -70.0   80.0   80.0   90.0   \n",
              "cholesterol  69301.0    1.366806    0.680270    1.0    1.0    1.0    2.0   \n",
              "gluc         69301.0    1.226447    0.572246    1.0    1.0    1.0    1.0   \n",
              "smoke        69301.0    0.088051    0.283371    0.0    0.0    0.0    0.0   \n",
              "alco         69301.0    0.053881    0.225784    0.0    0.0    0.0    0.0   \n",
              "active       69301.0    0.803986    0.396982    0.0    1.0    1.0    1.0   \n",
              "cardio       69301.0    0.499589    0.500003    0.0    0.0    0.0    1.0   \n",
              "\n",
              "                 max  \n",
              "age             65.0  \n",
              "height         250.0  \n",
              "weight         200.0  \n",
              "ap_hi        16020.0  \n",
              "ap_lo        11000.0  \n",
              "cholesterol      3.0  \n",
              "gluc             3.0  \n",
              "smoke            1.0  \n",
              "alco             1.0  \n",
              "active           1.0  \n",
              "cardio           1.0  "
            ]
          },
          "execution_count": 14,
          "metadata": {},
          "output_type": "execute_result"
        }
      ],
      "source": [
        "# numeric overview\n",
        "data[num_col].describe().T"
      ]
    },
    {
      "attachments": {},
      "cell_type": "markdown",
      "metadata": {},
      "source": [
        "numerical data description"
      ]
    },
    {
      "cell_type": "code",
      "execution_count": 15,
      "metadata": {},
      "outputs": [
        {
          "name": "stdout",
          "output_type": "stream",
          "text": [
            "gender\n",
            "\n",
            "1    45079\n",
            "2    24222\n",
            "Name: gender, dtype: int64\n",
            "----------\n"
          ]
        }
      ],
      "source": [
        "# categorical overview\n",
        "for i in cat_col:\n",
        "    print(i)\n",
        "    print()\n",
        "    print(data[i].value_counts())\n",
        "    print('-' * 10)"
      ]
    },
    {
      "cell_type": "code",
      "execution_count": 16,
      "metadata": {},
      "outputs": [],
      "source": [
        "data['gender'].replace({1:'male',2:'female'},inplace=True)"
      ]
    },
    {
      "attachments": {},
      "cell_type": "markdown",
      "metadata": {},
      "source": [
        "- 1 for Male  \n",
        "- 2 for Female"
      ]
    },
    {
      "cell_type": "code",
      "execution_count": 17,
      "metadata": {},
      "outputs": [
        {
          "name": "stdout",
          "output_type": "stream",
          "text": [
            "Column:  gender\n",
            "Total unique labels:  2\n",
            "------------------------------\n"
          ]
        }
      ],
      "source": [
        "# categorical overview\n",
        "for i in cat_col:\n",
        "    print('Column: ',i)\n",
        "    print('Total unique labels: ', data[i].nunique())\n",
        "    print('-' * 30)"
      ]
    },
    {
      "attachments": {},
      "cell_type": "markdown",
      "metadata": {},
      "source": [
        "There is no categorical columns. But we should checking for next step."
      ]
    },
    {
      "cell_type": "code",
      "execution_count": 18,
      "metadata": {},
      "outputs": [],
      "source": [
        "# data.tail(100).to_csv('data_inferences.csv')"
      ]
    },
    {
      "attachments": {},
      "cell_type": "markdown",
      "metadata": {},
      "source": [
        "saving for model inference"
      ]
    },
    {
      "attachments": {},
      "cell_type": "markdown",
      "metadata": {
        "id": "FOU3gbEbdEba"
      },
      "source": [
        "### Exploratory Data Analysis (EDA)"
      ]
    },
    {
      "cell_type": "code",
      "execution_count": 19,
      "metadata": {},
      "outputs": [
        {
          "data": {
            "text/plain": [
              "<seaborn.axisgrid.FacetGrid at 0x7f90bac01e10>"
            ]
          },
          "execution_count": 19,
          "metadata": {},
          "output_type": "execute_result"
        },
        {
          "data": {
            "image/png": "[encoded data removed]",
            "text/plain": [
              "<Figure size 558.875x500 with 1 Axes>"
            ]
          },
          "metadata": {},
          "output_type": "display_data"
        }
      ],
      "source": [
        "sns.lmplot(data=data, x='weight',y='height',hue='cardio')"
      ]
    },
    {
      "cell_type": "code",
      "execution_count": 20,
      "metadata": {
        "colab": {
          "base_uri": "https://localhost:8080/",
          "height": 392
        },
        "id": "f-dtMp188cpi",
        "outputId": "efdb1d42-f501-4255-a1f1-eda255422e3f"
      },
      "outputs": [
        {
          "data": {
            "text/plain": [
              "Text(0.5, 1.0, 'Histogram of Age')"
            ]
          },
          "execution_count": 20,
          "metadata": {},
          "output_type": "execute_result"
        },
        {
          "data": {
            "image/png": "[encoded data removed]",
            "text/plain": [
              "<Figure size 1500x500 with 1 Axes>"
            ]
          },
          "metadata": {},
          "output_type": "display_data"
        }
      ],
      "source": [
        "plt.figure(figsize=(15, 5))\n",
        "plt.subplot(1, 2, 1)\n",
        "sns.histplot(data['age'], kde=True, bins=30)\n",
        "plt.title('Histogram of Age')\n",
        "\n"
      ]
    },
    {
      "attachments": {},
      "cell_type": "markdown",
      "metadata": {},
      "source": [
        "The distributin of 'age' looks skewed. We should check for the next part."
      ]
    },
    {
      "cell_type": "code",
      "execution_count": 21,
      "metadata": {},
      "outputs": [
        {
          "data": {
            "text/html": [
              "<div>\n",
              "<style scoped>\n",
              "    .dataframe tbody tr th:only-of-type {\n",
              "        vertical-align: middle;\n",
              "    }\n",
              "\n",
              "    .dataframe tbody tr th {\n",
              "        vertical-align: top;\n",
              "    }\n",
              "\n",
              "    .dataframe thead th {\n",
              "        text-align: right;\n",
              "    }\n",
              "</style>\n",
              "<table border=\"1\" class=\"dataframe\">\n",
              "  <thead>\n",
              "    <tr style=\"text-align: right;\">\n",
              "      <th></th>\n",
              "      <th>age</th>\n",
              "      <th>gender</th>\n",
              "      <th>height</th>\n",
              "      <th>weight</th>\n",
              "      <th>ap_hi</th>\n",
              "      <th>ap_lo</th>\n",
              "      <th>cholesterol</th>\n",
              "      <th>gluc</th>\n",
              "      <th>smoke</th>\n",
              "      <th>alco</th>\n",
              "      <th>active</th>\n",
              "      <th>cardio</th>\n",
              "    </tr>\n",
              "  </thead>\n",
              "  <tbody>\n",
              "    <tr>\n",
              "      <th>0</th>\n",
              "      <td>62.0</td>\n",
              "      <td>male</td>\n",
              "      <td>155</td>\n",
              "      <td>69.0</td>\n",
              "      <td>130</td>\n",
              "      <td>80</td>\n",
              "      <td>2</td>\n",
              "      <td>2</td>\n",
              "      <td>0</td>\n",
              "      <td>0</td>\n",
              "      <td>1</td>\n",
              "      <td>0</td>\n",
              "    </tr>\n",
              "    <tr>\n",
              "      <th>1</th>\n",
              "      <td>40.0</td>\n",
              "      <td>male</td>\n",
              "      <td>163</td>\n",
              "      <td>71.0</td>\n",
              "      <td>110</td>\n",
              "      <td>70</td>\n",
              "      <td>1</td>\n",
              "      <td>1</td>\n",
              "      <td>0</td>\n",
              "      <td>0</td>\n",
              "      <td>1</td>\n",
              "      <td>1</td>\n",
              "    </tr>\n",
              "    <tr>\n",
              "      <th>2</th>\n",
              "      <td>60.0</td>\n",
              "      <td>male</td>\n",
              "      <td>165</td>\n",
              "      <td>70.0</td>\n",
              "      <td>120</td>\n",
              "      <td>80</td>\n",
              "      <td>1</td>\n",
              "      <td>1</td>\n",
              "      <td>0</td>\n",
              "      <td>0</td>\n",
              "      <td>1</td>\n",
              "      <td>0</td>\n",
              "    </tr>\n",
              "    <tr>\n",
              "      <th>3</th>\n",
              "      <td>40.0</td>\n",
              "      <td>female</td>\n",
              "      <td>165</td>\n",
              "      <td>85.0</td>\n",
              "      <td>120</td>\n",
              "      <td>80</td>\n",
              "      <td>1</td>\n",
              "      <td>1</td>\n",
              "      <td>1</td>\n",
              "      <td>1</td>\n",
              "      <td>1</td>\n",
              "      <td>0</td>\n",
              "    </tr>\n",
              "    <tr>\n",
              "      <th>4</th>\n",
              "      <td>64.0</td>\n",
              "      <td>male</td>\n",
              "      <td>155</td>\n",
              "      <td>62.0</td>\n",
              "      <td>120</td>\n",
              "      <td>80</td>\n",
              "      <td>1</td>\n",
              "      <td>1</td>\n",
              "      <td>0</td>\n",
              "      <td>0</td>\n",
              "      <td>1</td>\n",
              "      <td>0</td>\n",
              "    </tr>\n",
              "  </tbody>\n",
              "</table>\n",
              "</div>"
            ],
            "text/plain": [
              "    age  gender  height  weight  ap_hi  ap_lo  cholesterol  gluc  smoke  alco  \\\n",
              "0  62.0    male     155    69.0    130     80            2     2      0     0   \n",
              "1  40.0    male     163    71.0    110     70            1     1      0     0   \n",
              "2  60.0    male     165    70.0    120     80            1     1      0     0   \n",
              "3  40.0  female     165    85.0    120     80            1     1      1     1   \n",
              "4  64.0    male     155    62.0    120     80            1     1      0     0   \n",
              "\n",
              "   active  cardio  \n",
              "0       1       0  \n",
              "1       1       1  \n",
              "2       1       0  \n",
              "3       1       0  \n",
              "4       1       0  "
            ]
          },
          "execution_count": 21,
          "metadata": {},
          "output_type": "execute_result"
        }
      ],
      "source": [
        "data.head()"
      ]
    },
    {
      "cell_type": "code",
      "execution_count": 22,
      "metadata": {},
      "outputs": [
        {
          "data": {
            "text/plain": [
              "<AxesSubplot:xlabel='cardio', ylabel='age'>"
            ]
          },
          "execution_count": 22,
          "metadata": {},
          "output_type": "execute_result"
        },
        {
          "data": {
            "image/png": "[encoded data removed]",
            "text/plain": [
              "<Figure size 640x480 with 1 Axes>"
            ]
          },
          "metadata": {},
          "output_type": "display_data"
        }
      ],
      "source": [
        "sns.barplot(data=data, x='cardio', y='age')\n"
      ]
    },
    {
      "attachments": {},
      "cell_type": "markdown",
      "metadata": {},
      "source": [
        "Cardio disease belong to balanced distribution for each age of patients."
      ]
    },
    {
      "cell_type": "code",
      "execution_count": 23,
      "metadata": {},
      "outputs": [
        {
          "data": {
            "text/plain": [
              "<AxesSubplot:xlabel='cardio', ylabel='count'>"
            ]
          },
          "execution_count": 23,
          "metadata": {},
          "output_type": "execute_result"
        },
        {
          "data": {
            "image/png": "[encoded data removed]",
            "text/plain": [
              "<Figure size 640x480 with 1 Axes>"
            ]
          },
          "metadata": {},
          "output_type": "display_data"
        }
      ],
      "source": [
        "#looking for level of balancing income bracket \n",
        "sns.countplot(data=data,x='cardio')"
      ]
    },
    {
      "attachments": {},
      "cell_type": "markdown",
      "metadata": {},
      "source": [
        "cardio diseas has a balance distribution"
      ]
    },
    {
      "cell_type": "code",
      "execution_count": 24,
      "metadata": {},
      "outputs": [
        {
          "name": "stdout",
          "output_type": "stream",
          "text": [
            "Requirement already satisfied: phik in /opt/anaconda3/envs/galih/lib/python3.7/site-packages (0.12.3)\n",
            "Requirement already satisfied: matplotlib>=2.2.3 in /opt/anaconda3/envs/galih/lib/python3.7/site-packages (from phik) (3.5.3)\n",
            "Requirement already satisfied: joblib>=0.14.1 in /opt/anaconda3/envs/galih/lib/python3.7/site-packages (from phik) (1.2.0)\n",
            "Requirement already satisfied: pandas>=0.25.1 in /opt/anaconda3/envs/galih/lib/python3.7/site-packages (from phik) (1.3.5)\n",
            "Requirement already satisfied: numpy>=1.18.0 in /opt/anaconda3/envs/galih/lib/python3.7/site-packages (from phik) (1.21.6)\n",
            "Requirement already satisfied: scipy>=1.5.2 in /opt/anaconda3/envs/galih/lib/python3.7/site-packages (from phik) (1.7.3)\n",
            "Requirement already satisfied: pillow>=6.2.0 in /opt/anaconda3/envs/galih/lib/python3.7/site-packages (from matplotlib>=2.2.3->phik) (9.4.0)\n",
            "Requirement already satisfied: kiwisolver>=1.0.1 in /opt/anaconda3/envs/galih/lib/python3.7/site-packages (from matplotlib>=2.2.3->phik) (1.4.4)\n",
            "Requirement already satisfied: cycler>=0.10 in /opt/anaconda3/envs/galih/lib/python3.7/site-packages (from matplotlib>=2.2.3->phik) (0.11.0)\n",
            "Requirement already satisfied: packaging>=20.0 in /opt/anaconda3/envs/galih/lib/python3.7/site-packages (from matplotlib>=2.2.3->phik) (23.0)\n",
            "Requirement already satisfied: pyparsing>=2.2.1 in /opt/anaconda3/envs/galih/lib/python3.7/site-packages (from matplotlib>=2.2.3->phik) (3.0.9)\n",
            "Requirement already satisfied: python-dateutil>=2.7 in /opt/anaconda3/envs/galih/lib/python3.7/site-packages (from matplotlib>=2.2.3->phik) (2.8.2)\n",
            "Requirement already satisfied: fonttools>=4.22.0 in /opt/anaconda3/envs/galih/lib/python3.7/site-packages (from matplotlib>=2.2.3->phik) (4.38.0)\n",
            "Requirement already satisfied: pytz>=2017.3 in /opt/anaconda3/envs/galih/lib/python3.7/site-packages (from pandas>=0.25.1->phik) (2022.7.1)\n",
            "Requirement already satisfied: typing-extensions in /opt/anaconda3/envs/galih/lib/python3.7/site-packages (from kiwisolver>=1.0.1->matplotlib>=2.2.3->phik) (4.5.0)\n",
            "Requirement already satisfied: six>=1.5 in /opt/anaconda3/envs/galih/lib/python3.7/site-packages (from python-dateutil>=2.7->matplotlib>=2.2.3->phik) (1.16.0)\n"
          ]
        }
      ],
      "source": [
        "!pip install phik"
      ]
    },
    {
      "cell_type": "code",
      "execution_count": 25,
      "metadata": {},
      "outputs": [],
      "source": [
        "import phik"
      ]
    },
    {
      "cell_type": "code",
      "execution_count": 26,
      "metadata": {},
      "outputs": [
        {
          "name": "stdout",
          "output_type": "stream",
          "text": [
            "interval columns not set, guessing: ['age', 'height', 'weight', 'ap_hi', 'ap_lo', 'cholesterol', 'gluc', 'smoke', 'alco', 'active', 'cardio']\n"
          ]
        },
        {
          "data": {
            "image/png": "[encoded data removed]",
            "text/plain": [
              "<Figure size 1200x900 with 2 Axes>"
            ]
          },
          "metadata": {},
          "output_type": "display_data"
        }
      ],
      "source": [
        "phik_corr = data.phik_matrix()\n",
        "plt.figure(figsize=(12, 9))\n",
        "sns.heatmap(phik_corr, annot= True,vmin=0, vmax=1)\n",
        "plt.show()"
      ]
    },
    {
      "attachments": {},
      "cell_type": "markdown",
      "metadata": {},
      "source": [
        "From the phik correlation we know that every features give the positive impact to the target label 'cardio'."
      ]
    },
    {
      "attachments": {},
      "cell_type": "markdown",
      "metadata": {
        "id": "kx3mJvnnN8fv"
      },
      "source": [
        "### Feature Engineering"
      ]
    },
    {
      "attachments": {},
      "cell_type": "markdown",
      "metadata": {
        "id": "M9uhsR3IN_nJ"
      },
      "source": [
        "For this step we should prepared all of the things before modelling process like splitting train set and test set, transformation, normalization, scaling, encoding, etc. "
      ]
    },
    {
      "attachments": {},
      "cell_type": "markdown",
      "metadata": {
        "id": "7Xr9YKFjOMzs"
      },
      "source": [
        "### Split between `X` (Features) and `y` (Target)"
      ]
    },
    {
      "cell_type": "code",
      "execution_count": 27,
      "metadata": {
        "colab": {
          "base_uri": "https://localhost:8080/",
          "height": 981
        },
        "id": "lzAJO42wKT_J",
        "outputId": "d46ff6dc-a4f6-4ba5-8cd9-d750779e40ac"
      },
      "outputs": [
        {
          "data": {
            "text/html": [
              "<div>\n",
              "<style scoped>\n",
              "    .dataframe tbody tr th:only-of-type {\n",
              "        vertical-align: middle;\n",
              "    }\n",
              "\n",
              "    .dataframe tbody tr th {\n",
              "        vertical-align: top;\n",
              "    }\n",
              "\n",
              "    .dataframe thead th {\n",
              "        text-align: right;\n",
              "    }\n",
              "</style>\n",
              "<table border=\"1\" class=\"dataframe\">\n",
              "  <thead>\n",
              "    <tr style=\"text-align: right;\">\n",
              "      <th></th>\n",
              "      <th>age</th>\n",
              "      <th>gender</th>\n",
              "      <th>height</th>\n",
              "      <th>weight</th>\n",
              "      <th>ap_hi</th>\n",
              "      <th>ap_lo</th>\n",
              "      <th>cholesterol</th>\n",
              "      <th>gluc</th>\n",
              "      <th>smoke</th>\n",
              "      <th>alco</th>\n",
              "      <th>active</th>\n",
              "    </tr>\n",
              "  </thead>\n",
              "  <tbody>\n",
              "    <tr>\n",
              "      <th>0</th>\n",
              "      <td>62.0</td>\n",
              "      <td>male</td>\n",
              "      <td>155</td>\n",
              "      <td>69.0</td>\n",
              "      <td>130</td>\n",
              "      <td>80</td>\n",
              "      <td>2</td>\n",
              "      <td>2</td>\n",
              "      <td>0</td>\n",
              "      <td>0</td>\n",
              "      <td>1</td>\n",
              "    </tr>\n",
              "    <tr>\n",
              "      <th>1</th>\n",
              "      <td>40.0</td>\n",
              "      <td>male</td>\n",
              "      <td>163</td>\n",
              "      <td>71.0</td>\n",
              "      <td>110</td>\n",
              "      <td>70</td>\n",
              "      <td>1</td>\n",
              "      <td>1</td>\n",
              "      <td>0</td>\n",
              "      <td>0</td>\n",
              "      <td>1</td>\n",
              "    </tr>\n",
              "    <tr>\n",
              "      <th>2</th>\n",
              "      <td>60.0</td>\n",
              "      <td>male</td>\n",
              "      <td>165</td>\n",
              "      <td>70.0</td>\n",
              "      <td>120</td>\n",
              "      <td>80</td>\n",
              "      <td>1</td>\n",
              "      <td>1</td>\n",
              "      <td>0</td>\n",
              "      <td>0</td>\n",
              "      <td>1</td>\n",
              "    </tr>\n",
              "    <tr>\n",
              "      <th>3</th>\n",
              "      <td>40.0</td>\n",
              "      <td>female</td>\n",
              "      <td>165</td>\n",
              "      <td>85.0</td>\n",
              "      <td>120</td>\n",
              "      <td>80</td>\n",
              "      <td>1</td>\n",
              "      <td>1</td>\n",
              "      <td>1</td>\n",
              "      <td>1</td>\n",
              "      <td>1</td>\n",
              "    </tr>\n",
              "    <tr>\n",
              "      <th>4</th>\n",
              "      <td>64.0</td>\n",
              "      <td>male</td>\n",
              "      <td>155</td>\n",
              "      <td>62.0</td>\n",
              "      <td>120</td>\n",
              "      <td>80</td>\n",
              "      <td>1</td>\n",
              "      <td>1</td>\n",
              "      <td>0</td>\n",
              "      <td>0</td>\n",
              "      <td>1</td>\n",
              "    </tr>\n",
              "    <tr>\n",
              "      <th>...</th>\n",
              "      <td>...</td>\n",
              "      <td>...</td>\n",
              "      <td>...</td>\n",
              "      <td>...</td>\n",
              "      <td>...</td>\n",
              "      <td>...</td>\n",
              "      <td>...</td>\n",
              "      <td>...</td>\n",
              "      <td>...</td>\n",
              "      <td>...</td>\n",
              "      <td>...</td>\n",
              "    </tr>\n",
              "    <tr>\n",
              "      <th>69296</th>\n",
              "      <td>53.0</td>\n",
              "      <td>female</td>\n",
              "      <td>168</td>\n",
              "      <td>76.0</td>\n",
              "      <td>120</td>\n",
              "      <td>80</td>\n",
              "      <td>1</td>\n",
              "      <td>1</td>\n",
              "      <td>1</td>\n",
              "      <td>0</td>\n",
              "      <td>1</td>\n",
              "    </tr>\n",
              "    <tr>\n",
              "      <th>69297</th>\n",
              "      <td>62.0</td>\n",
              "      <td>male</td>\n",
              "      <td>158</td>\n",
              "      <td>126.0</td>\n",
              "      <td>140</td>\n",
              "      <td>90</td>\n",
              "      <td>2</td>\n",
              "      <td>2</td>\n",
              "      <td>0</td>\n",
              "      <td>0</td>\n",
              "      <td>1</td>\n",
              "    </tr>\n",
              "    <tr>\n",
              "      <th>69298</th>\n",
              "      <td>52.0</td>\n",
              "      <td>female</td>\n",
              "      <td>183</td>\n",
              "      <td>105.0</td>\n",
              "      <td>180</td>\n",
              "      <td>90</td>\n",
              "      <td>3</td>\n",
              "      <td>1</td>\n",
              "      <td>0</td>\n",
              "      <td>1</td>\n",
              "      <td>0</td>\n",
              "    </tr>\n",
              "    <tr>\n",
              "      <th>69299</th>\n",
              "      <td>61.0</td>\n",
              "      <td>male</td>\n",
              "      <td>163</td>\n",
              "      <td>72.0</td>\n",
              "      <td>135</td>\n",
              "      <td>80</td>\n",
              "      <td>1</td>\n",
              "      <td>2</td>\n",
              "      <td>0</td>\n",
              "      <td>0</td>\n",
              "      <td>0</td>\n",
              "    </tr>\n",
              "    <tr>\n",
              "      <th>69300</th>\n",
              "      <td>56.0</td>\n",
              "      <td>male</td>\n",
              "      <td>170</td>\n",
              "      <td>72.0</td>\n",
              "      <td>120</td>\n",
              "      <td>80</td>\n",
              "      <td>2</td>\n",
              "      <td>1</td>\n",
              "      <td>0</td>\n",
              "      <td>0</td>\n",
              "      <td>1</td>\n",
              "    </tr>\n",
              "  </tbody>\n",
              "</table>\n",
              "<p>69301 rows × 11 columns</p>\n",
              "</div>"
            ],
            "text/plain": [
              "        age  gender  height  weight  ap_hi  ap_lo  cholesterol  gluc  smoke  \\\n",
              "0      62.0    male     155    69.0    130     80            2     2      0   \n",
              "1      40.0    male     163    71.0    110     70            1     1      0   \n",
              "2      60.0    male     165    70.0    120     80            1     1      0   \n",
              "3      40.0  female     165    85.0    120     80            1     1      1   \n",
              "4      64.0    male     155    62.0    120     80            1     1      0   \n",
              "...     ...     ...     ...     ...    ...    ...          ...   ...    ...   \n",
              "69296  53.0  female     168    76.0    120     80            1     1      1   \n",
              "69297  62.0    male     158   126.0    140     90            2     2      0   \n",
              "69298  52.0  female     183   105.0    180     90            3     1      0   \n",
              "69299  61.0    male     163    72.0    135     80            1     2      0   \n",
              "69300  56.0    male     170    72.0    120     80            2     1      0   \n",
              "\n",
              "       alco  active  \n",
              "0         0       1  \n",
              "1         0       1  \n",
              "2         0       1  \n",
              "3         1       1  \n",
              "4         0       1  \n",
              "...     ...     ...  \n",
              "69296     0       1  \n",
              "69297     0       1  \n",
              "69298     1       0  \n",
              "69299     0       0  \n",
              "69300     0       1  \n",
              "\n",
              "[69301 rows x 11 columns]"
            ]
          },
          "execution_count": 27,
          "metadata": {},
          "output_type": "execute_result"
        }
      ],
      "source": [
        "# Splitting between `X` and `y`\n",
        "\n",
        "X = data.drop(['cardio'], axis=1)\n",
        "y = data['cardio']\n",
        "X"
      ]
    },
    {
      "attachments": {},
      "cell_type": "markdown",
      "metadata": {},
      "source": [
        "### Split between cat and num"
      ]
    },
    {
      "cell_type": "code",
      "execution_count": 28,
      "metadata": {},
      "outputs": [],
      "source": [
        "num_col2 = X.describe().columns.tolist()\n",
        "cat_col2 = X.select_dtypes(include=['object']).columns.tolist()"
      ]
    },
    {
      "attachments": {},
      "cell_type": "markdown",
      "metadata": {},
      "source": [
        "### Split Train-Set and Test_set"
      ]
    },
    {
      "cell_type": "code",
      "execution_count": 29,
      "metadata": {},
      "outputs": [
        {
          "name": "stdout",
          "output_type": "stream",
          "text": [
            "Train Size :  (55440, 11)\n",
            "Test Size  :  (13861, 11)\n"
          ]
        },
        {
          "data": {
            "text/html": [
              "<div>\n",
              "<style scoped>\n",
              "    .dataframe tbody tr th:only-of-type {\n",
              "        vertical-align: middle;\n",
              "    }\n",
              "\n",
              "    .dataframe tbody tr th {\n",
              "        vertical-align: top;\n",
              "    }\n",
              "\n",
              "    .dataframe thead th {\n",
              "        text-align: right;\n",
              "    }\n",
              "</style>\n",
              "<table border=\"1\" class=\"dataframe\">\n",
              "  <thead>\n",
              "    <tr style=\"text-align: right;\">\n",
              "      <th></th>\n",
              "      <th>age</th>\n",
              "      <th>gender</th>\n",
              "      <th>height</th>\n",
              "      <th>weight</th>\n",
              "      <th>ap_hi</th>\n",
              "      <th>ap_lo</th>\n",
              "      <th>cholesterol</th>\n",
              "      <th>gluc</th>\n",
              "      <th>smoke</th>\n",
              "      <th>alco</th>\n",
              "      <th>active</th>\n",
              "    </tr>\n",
              "  </thead>\n",
              "  <tbody>\n",
              "    <tr>\n",
              "      <th>20646</th>\n",
              "      <td>58.0</td>\n",
              "      <td>female</td>\n",
              "      <td>174</td>\n",
              "      <td>58.0</td>\n",
              "      <td>120</td>\n",
              "      <td>80</td>\n",
              "      <td>3</td>\n",
              "      <td>3</td>\n",
              "      <td>0</td>\n",
              "      <td>0</td>\n",
              "      <td>1</td>\n",
              "    </tr>\n",
              "    <tr>\n",
              "      <th>58725</th>\n",
              "      <td>40.0</td>\n",
              "      <td>male</td>\n",
              "      <td>160</td>\n",
              "      <td>63.0</td>\n",
              "      <td>110</td>\n",
              "      <td>70</td>\n",
              "      <td>1</td>\n",
              "      <td>1</td>\n",
              "      <td>0</td>\n",
              "      <td>0</td>\n",
              "      <td>0</td>\n",
              "    </tr>\n",
              "    <tr>\n",
              "      <th>20428</th>\n",
              "      <td>52.0</td>\n",
              "      <td>male</td>\n",
              "      <td>157</td>\n",
              "      <td>64.0</td>\n",
              "      <td>120</td>\n",
              "      <td>80</td>\n",
              "      <td>1</td>\n",
              "      <td>1</td>\n",
              "      <td>0</td>\n",
              "      <td>0</td>\n",
              "      <td>1</td>\n",
              "    </tr>\n",
              "    <tr>\n",
              "      <th>10270</th>\n",
              "      <td>46.0</td>\n",
              "      <td>male</td>\n",
              "      <td>145</td>\n",
              "      <td>45.0</td>\n",
              "      <td>90</td>\n",
              "      <td>50</td>\n",
              "      <td>1</td>\n",
              "      <td>1</td>\n",
              "      <td>0</td>\n",
              "      <td>0</td>\n",
              "      <td>0</td>\n",
              "    </tr>\n",
              "    <tr>\n",
              "      <th>32844</th>\n",
              "      <td>41.0</td>\n",
              "      <td>female</td>\n",
              "      <td>173</td>\n",
              "      <td>86.0</td>\n",
              "      <td>130</td>\n",
              "      <td>100</td>\n",
              "      <td>1</td>\n",
              "      <td>1</td>\n",
              "      <td>1</td>\n",
              "      <td>0</td>\n",
              "      <td>1</td>\n",
              "    </tr>\n",
              "    <tr>\n",
              "      <th>...</th>\n",
              "      <td>...</td>\n",
              "      <td>...</td>\n",
              "      <td>...</td>\n",
              "      <td>...</td>\n",
              "      <td>...</td>\n",
              "      <td>...</td>\n",
              "      <td>...</td>\n",
              "      <td>...</td>\n",
              "      <td>...</td>\n",
              "      <td>...</td>\n",
              "      <td>...</td>\n",
              "    </tr>\n",
              "    <tr>\n",
              "      <th>27084</th>\n",
              "      <td>54.0</td>\n",
              "      <td>male</td>\n",
              "      <td>165</td>\n",
              "      <td>84.0</td>\n",
              "      <td>110</td>\n",
              "      <td>70</td>\n",
              "      <td>1</td>\n",
              "      <td>1</td>\n",
              "      <td>0</td>\n",
              "      <td>0</td>\n",
              "      <td>1</td>\n",
              "    </tr>\n",
              "    <tr>\n",
              "      <th>18287</th>\n",
              "      <td>48.0</td>\n",
              "      <td>male</td>\n",
              "      <td>160</td>\n",
              "      <td>60.0</td>\n",
              "      <td>110</td>\n",
              "      <td>80</td>\n",
              "      <td>2</td>\n",
              "      <td>1</td>\n",
              "      <td>0</td>\n",
              "      <td>0</td>\n",
              "      <td>1</td>\n",
              "    </tr>\n",
              "    <tr>\n",
              "      <th>62121</th>\n",
              "      <td>60.0</td>\n",
              "      <td>male</td>\n",
              "      <td>170</td>\n",
              "      <td>68.0</td>\n",
              "      <td>150</td>\n",
              "      <td>90</td>\n",
              "      <td>1</td>\n",
              "      <td>1</td>\n",
              "      <td>0</td>\n",
              "      <td>0</td>\n",
              "      <td>1</td>\n",
              "    </tr>\n",
              "    <tr>\n",
              "      <th>16692</th>\n",
              "      <td>62.0</td>\n",
              "      <td>female</td>\n",
              "      <td>178</td>\n",
              "      <td>90.0</td>\n",
              "      <td>150</td>\n",
              "      <td>100</td>\n",
              "      <td>2</td>\n",
              "      <td>1</td>\n",
              "      <td>0</td>\n",
              "      <td>0</td>\n",
              "      <td>1</td>\n",
              "    </tr>\n",
              "    <tr>\n",
              "      <th>1432</th>\n",
              "      <td>54.0</td>\n",
              "      <td>female</td>\n",
              "      <td>180</td>\n",
              "      <td>90.0</td>\n",
              "      <td>120</td>\n",
              "      <td>80</td>\n",
              "      <td>1</td>\n",
              "      <td>1</td>\n",
              "      <td>0</td>\n",
              "      <td>0</td>\n",
              "      <td>1</td>\n",
              "    </tr>\n",
              "  </tbody>\n",
              "</table>\n",
              "<p>55440 rows × 11 columns</p>\n",
              "</div>"
            ],
            "text/plain": [
              "        age  gender  height  weight  ap_hi  ap_lo  cholesterol  gluc  smoke  \\\n",
              "20646  58.0  female     174    58.0    120     80            3     3      0   \n",
              "58725  40.0    male     160    63.0    110     70            1     1      0   \n",
              "20428  52.0    male     157    64.0    120     80            1     1      0   \n",
              "10270  46.0    male     145    45.0     90     50            1     1      0   \n",
              "32844  41.0  female     173    86.0    130    100            1     1      1   \n",
              "...     ...     ...     ...     ...    ...    ...          ...   ...    ...   \n",
              "27084  54.0    male     165    84.0    110     70            1     1      0   \n",
              "18287  48.0    male     160    60.0    110     80            2     1      0   \n",
              "62121  60.0    male     170    68.0    150     90            1     1      0   \n",
              "16692  62.0  female     178    90.0    150    100            2     1      0   \n",
              "1432   54.0  female     180    90.0    120     80            1     1      0   \n",
              "\n",
              "       alco  active  \n",
              "20646     0       1  \n",
              "58725     0       0  \n",
              "20428     0       1  \n",
              "10270     0       0  \n",
              "32844     0       1  \n",
              "...     ...     ...  \n",
              "27084     0       1  \n",
              "18287     0       1  \n",
              "62121     0       1  \n",
              "16692     0       1  \n",
              "1432      0       1  \n",
              "\n",
              "[55440 rows x 11 columns]"
            ]
          },
          "execution_count": 29,
          "metadata": {},
          "output_type": "execute_result"
        }
      ],
      "source": [
        "# Splitting between Train-Set and Test-Set\n",
        "X_train, X_test, y_train, y_test = train_test_split(X, y, test_size=0.2, random_state=42, stratify=y)\n",
        "\n",
        "print('Train Size : ', X_train.shape)\n",
        "print('Test Size  : ', X_test.shape)\n",
        "X_train"
      ]
    },
    {
      "cell_type": "code",
      "execution_count": 30,
      "metadata": {},
      "outputs": [
        {
          "data": {
            "text/plain": [
              "0    27743\n",
              "1    27697\n",
              "Name: cardio, dtype: int64"
            ]
          },
          "execution_count": 30,
          "metadata": {},
          "output_type": "execute_result"
        }
      ],
      "source": [
        "y_train.value_counts()"
      ]
    },
    {
      "attachments": {},
      "cell_type": "markdown",
      "metadata": {},
      "source": [
        "The target almost has excellent balanced"
      ]
    },
    {
      "cell_type": "code",
      "execution_count": 31,
      "metadata": {},
      "outputs": [
        {
          "data": {
            "text/plain": [
              "(55440, 12)"
            ]
          },
          "execution_count": 31,
          "metadata": {},
          "output_type": "execute_result"
        }
      ],
      "source": [
        "data_eda = pd.concat([X_train, y_train], axis=1)\n",
        "data_eda.shape"
      ]
    },
    {
      "cell_type": "code",
      "execution_count": 32,
      "metadata": {},
      "outputs": [],
      "source": [
        "X_train_eda = X_train.copy()"
      ]
    },
    {
      "attachments": {},
      "cell_type": "markdown",
      "metadata": {},
      "source": [
        "### Handling Outlier"
      ]
    },
    {
      "cell_type": "code",
      "execution_count": 33,
      "metadata": {},
      "outputs": [
        {
          "name": "stdout",
          "output_type": "stream",
          "text": [
            "age :  -0.30348024813561697\n",
            "height :  -0.5916797888751323\n",
            "weight :  1.0162620253447627\n",
            "ap_hi :  81.02678208181342\n",
            "ap_lo :  32.432300884483986\n",
            "cholesterol :  1.5834699412914344\n",
            "gluc :  2.3862346784767703\n",
            "smoke :  2.894389011335006\n",
            "alco :  3.9441714028632635\n",
            "active :  -1.5283715293840945\n"
          ]
        }
      ],
      "source": [
        "# check skewness\n",
        "for i in X_train_eda[num_col2].columns:\n",
        "    print(i, ': ', X_train_eda[num_col2][i].skew())"
      ]
    },
    {
      "cell_type": "code",
      "execution_count": 34,
      "metadata": {},
      "outputs": [],
      "source": [
        "# check outlier\n",
        "winsor = Winsorizer(capping_method='gaussian', fold=3, tail='both')\n",
        "X_train_clean = winsor.fit_transform(X_train_eda)"
      ]
    },
    {
      "cell_type": "code",
      "execution_count": 35,
      "metadata": {},
      "outputs": [
        {
          "name": "stdout",
          "output_type": "stream",
          "text": [
            "age :  -0.30306768457856575\n",
            "height :  0.08391511411244228\n",
            "weight :  0.6770175092517097\n",
            "ap_hi :  6.211326940104614\n",
            "ap_lo :  8.125344301488854\n",
            "cholesterol :  1.5834699412914344\n",
            "gluc :  2.3613506670746633\n",
            "smoke :  2.8943890113350057\n",
            "alco :  3.9441714028632635\n",
            "active :  -1.5283715293840945\n"
          ]
        }
      ],
      "source": [
        "for i in X_train_clean[num_col2].columns:\n",
        "    print(i, ': ', X_train_clean[num_col2][i].skew())"
      ]
    },
    {
      "attachments": {},
      "cell_type": "markdown",
      "metadata": {},
      "source": [
        "Skew scores still upnormal. Next we should scaled them."
      ]
    },
    {
      "cell_type": "code",
      "execution_count": 36,
      "metadata": {},
      "outputs": [
        {
          "data": {
            "text/plain": [
              "age            0\n",
              "height         0\n",
              "weight         0\n",
              "ap_hi          0\n",
              "ap_lo          0\n",
              "cholesterol    0\n",
              "gluc           0\n",
              "smoke          0\n",
              "alco           0\n",
              "active         0\n",
              "dtype: int64"
            ]
          },
          "execution_count": 36,
          "metadata": {},
          "output_type": "execute_result"
        }
      ],
      "source": [
        "X_train_clean[num_col2].isnull().sum()"
      ]
    },
    {
      "attachments": {},
      "cell_type": "markdown",
      "metadata": {},
      "source": [
        "checking for mv"
      ]
    },
    {
      "cell_type": "code",
      "execution_count": 37,
      "metadata": {},
      "outputs": [
        {
          "data": {
            "text/html": [
              "<div>\n",
              "<style scoped>\n",
              "    .dataframe tbody tr th:only-of-type {\n",
              "        vertical-align: middle;\n",
              "    }\n",
              "\n",
              "    .dataframe tbody tr th {\n",
              "        vertical-align: top;\n",
              "    }\n",
              "\n",
              "    .dataframe thead th {\n",
              "        text-align: right;\n",
              "    }\n",
              "</style>\n",
              "<table border=\"1\" class=\"dataframe\">\n",
              "  <thead>\n",
              "    <tr style=\"text-align: right;\">\n",
              "      <th></th>\n",
              "      <th>age</th>\n",
              "      <th>height</th>\n",
              "      <th>weight</th>\n",
              "      <th>ap_hi</th>\n",
              "      <th>ap_lo</th>\n",
              "      <th>cholesterol</th>\n",
              "      <th>gluc</th>\n",
              "      <th>smoke</th>\n",
              "      <th>alco</th>\n",
              "      <th>active</th>\n",
              "    </tr>\n",
              "  </thead>\n",
              "  <tbody>\n",
              "    <tr>\n",
              "      <th>count</th>\n",
              "      <td>55440.000000</td>\n",
              "      <td>55440.000000</td>\n",
              "      <td>55440.000000</td>\n",
              "      <td>55440.000000</td>\n",
              "      <td>55440.000000</td>\n",
              "      <td>55440.000000</td>\n",
              "      <td>55440.000000</td>\n",
              "      <td>55440.000000</td>\n",
              "      <td>55440.000000</td>\n",
              "      <td>55440.000000</td>\n",
              "    </tr>\n",
              "    <tr>\n",
              "      <th>mean</th>\n",
              "      <td>53.323938</td>\n",
              "      <td>164.423630</td>\n",
              "      <td>74.048296</td>\n",
              "      <td>126.919928</td>\n",
              "      <td>89.131424</td>\n",
              "      <td>1.367731</td>\n",
              "      <td>1.223853</td>\n",
              "      <td>0.083459</td>\n",
              "      <td>0.039596</td>\n",
              "      <td>0.803589</td>\n",
              "    </tr>\n",
              "    <tr>\n",
              "      <th>std</th>\n",
              "      <td>6.757443</td>\n",
              "      <td>7.872087</td>\n",
              "      <td>13.854243</td>\n",
              "      <td>21.385412</td>\n",
              "      <td>67.344584</td>\n",
              "      <td>0.680810</td>\n",
              "      <td>0.561098</td>\n",
              "      <td>0.267588</td>\n",
              "      <td>0.165636</td>\n",
              "      <td>0.397286</td>\n",
              "    </tr>\n",
              "    <tr>\n",
              "      <th>min</th>\n",
              "      <td>33.050432</td>\n",
              "      <td>139.833943</td>\n",
              "      <td>31.071921</td>\n",
              "      <td>-150.000000</td>\n",
              "      <td>-70.000000</td>\n",
              "      <td>1.000000</td>\n",
              "      <td>1.000000</td>\n",
              "      <td>0.000000</td>\n",
              "      <td>0.000000</td>\n",
              "      <td>0.000000</td>\n",
              "    </tr>\n",
              "    <tr>\n",
              "      <th>25%</th>\n",
              "      <td>48.000000</td>\n",
              "      <td>159.000000</td>\n",
              "      <td>65.000000</td>\n",
              "      <td>120.000000</td>\n",
              "      <td>80.000000</td>\n",
              "      <td>1.000000</td>\n",
              "      <td>1.000000</td>\n",
              "      <td>0.000000</td>\n",
              "      <td>0.000000</td>\n",
              "      <td>1.000000</td>\n",
              "    </tr>\n",
              "    <tr>\n",
              "      <th>50%</th>\n",
              "      <td>54.000000</td>\n",
              "      <td>165.000000</td>\n",
              "      <td>72.000000</td>\n",
              "      <td>120.000000</td>\n",
              "      <td>80.000000</td>\n",
              "      <td>1.000000</td>\n",
              "      <td>1.000000</td>\n",
              "      <td>0.000000</td>\n",
              "      <td>0.000000</td>\n",
              "      <td>1.000000</td>\n",
              "    </tr>\n",
              "    <tr>\n",
              "      <th>75%</th>\n",
              "      <td>58.000000</td>\n",
              "      <td>170.000000</td>\n",
              "      <td>82.000000</td>\n",
              "      <td>140.000000</td>\n",
              "      <td>90.000000</td>\n",
              "      <td>2.000000</td>\n",
              "      <td>1.000000</td>\n",
              "      <td>0.000000</td>\n",
              "      <td>0.000000</td>\n",
              "      <td>1.000000</td>\n",
              "    </tr>\n",
              "    <tr>\n",
              "      <th>max</th>\n",
              "      <td>65.000000</td>\n",
              "      <td>188.927204</td>\n",
              "      <td>117.272744</td>\n",
              "      <td>615.200577</td>\n",
              "      <td>656.661134</td>\n",
              "      <td>3.000000</td>\n",
              "      <td>2.947919</td>\n",
              "      <td>0.941395</td>\n",
              "      <td>0.732464</td>\n",
              "      <td>1.000000</td>\n",
              "    </tr>\n",
              "  </tbody>\n",
              "</table>\n",
              "</div>"
            ],
            "text/plain": [
              "                age        height        weight         ap_hi         ap_lo  \\\n",
              "count  55440.000000  55440.000000  55440.000000  55440.000000  55440.000000   \n",
              "mean      53.323938    164.423630     74.048296    126.919928     89.131424   \n",
              "std        6.757443      7.872087     13.854243     21.385412     67.344584   \n",
              "min       33.050432    139.833943     31.071921   -150.000000    -70.000000   \n",
              "25%       48.000000    159.000000     65.000000    120.000000     80.000000   \n",
              "50%       54.000000    165.000000     72.000000    120.000000     80.000000   \n",
              "75%       58.000000    170.000000     82.000000    140.000000     90.000000   \n",
              "max       65.000000    188.927204    117.272744    615.200577    656.661134   \n",
              "\n",
              "        cholesterol          gluc         smoke          alco        active  \n",
              "count  55440.000000  55440.000000  55440.000000  55440.000000  55440.000000  \n",
              "mean       1.367731      1.223853      0.083459      0.039596      0.803589  \n",
              "std        0.680810      0.561098      0.267588      0.165636      0.397286  \n",
              "min        1.000000      1.000000      0.000000      0.000000      0.000000  \n",
              "25%        1.000000      1.000000      0.000000      0.000000      1.000000  \n",
              "50%        1.000000      1.000000      0.000000      0.000000      1.000000  \n",
              "75%        2.000000      1.000000      0.000000      0.000000      1.000000  \n",
              "max        3.000000      2.947919      0.941395      0.732464      1.000000  "
            ]
          },
          "execution_count": 37,
          "metadata": {},
          "output_type": "execute_result"
        }
      ],
      "source": [
        "X_train_clean.describe()"
      ]
    },
    {
      "attachments": {},
      "cell_type": "markdown",
      "metadata": {},
      "source": [
        "After mv handled"
      ]
    },
    {
      "cell_type": "code",
      "execution_count": 38,
      "metadata": {},
      "outputs": [
        {
          "data": {
            "text/plain": [
              "['age',\n",
              " 'height',\n",
              " 'weight',\n",
              " 'ap_hi',\n",
              " 'ap_lo',\n",
              " 'cholesterol',\n",
              " 'gluc',\n",
              " 'smoke',\n",
              " 'alco',\n",
              " 'active']"
            ]
          },
          "execution_count": 38,
          "metadata": {},
          "output_type": "execute_result"
        }
      ],
      "source": [
        "num_col2"
      ]
    },
    {
      "attachments": {},
      "cell_type": "markdown",
      "metadata": {},
      "source": [
        "### Scaling"
      ]
    },
    {
      "cell_type": "code",
      "execution_count": 39,
      "metadata": {},
      "outputs": [
        {
          "data": {
            "text/html": [
              "<div>\n",
              "<style scoped>\n",
              "    .dataframe tbody tr th:only-of-type {\n",
              "        vertical-align: middle;\n",
              "    }\n",
              "\n",
              "    .dataframe tbody tr th {\n",
              "        vertical-align: top;\n",
              "    }\n",
              "\n",
              "    .dataframe thead th {\n",
              "        text-align: right;\n",
              "    }\n",
              "</style>\n",
              "<table border=\"1\" class=\"dataframe\">\n",
              "  <thead>\n",
              "    <tr style=\"text-align: right;\">\n",
              "      <th></th>\n",
              "      <th>age</th>\n",
              "      <th>gender</th>\n",
              "      <th>height</th>\n",
              "      <th>weight</th>\n",
              "      <th>ap_hi</th>\n",
              "      <th>ap_lo</th>\n",
              "      <th>cholesterol</th>\n",
              "      <th>gluc</th>\n",
              "      <th>smoke</th>\n",
              "      <th>alco</th>\n",
              "      <th>active</th>\n",
              "    </tr>\n",
              "  </thead>\n",
              "  <tbody>\n",
              "    <tr>\n",
              "      <th>20646</th>\n",
              "      <td>0.780905</td>\n",
              "      <td>female</td>\n",
              "      <td>0.695942</td>\n",
              "      <td>0.312388</td>\n",
              "      <td>0.352849</td>\n",
              "      <td>0.206424</td>\n",
              "      <td>1.0</td>\n",
              "      <td>1.0</td>\n",
              "      <td>0.0</td>\n",
              "      <td>0.0</td>\n",
              "      <td>1.0</td>\n",
              "    </tr>\n",
              "    <tr>\n",
              "      <th>58725</th>\n",
              "      <td>0.217517</td>\n",
              "      <td>male</td>\n",
              "      <td>0.410770</td>\n",
              "      <td>0.370392</td>\n",
              "      <td>0.339780</td>\n",
              "      <td>0.192662</td>\n",
              "      <td>0.0</td>\n",
              "      <td>0.0</td>\n",
              "      <td>0.0</td>\n",
              "      <td>0.0</td>\n",
              "      <td>0.0</td>\n",
              "    </tr>\n",
              "    <tr>\n",
              "      <th>20428</th>\n",
              "      <td>0.593109</td>\n",
              "      <td>male</td>\n",
              "      <td>0.349662</td>\n",
              "      <td>0.381993</td>\n",
              "      <td>0.352849</td>\n",
              "      <td>0.206424</td>\n",
              "      <td>0.0</td>\n",
              "      <td>0.0</td>\n",
              "      <td>0.0</td>\n",
              "      <td>0.0</td>\n",
              "      <td>1.0</td>\n",
              "    </tr>\n",
              "    <tr>\n",
              "      <th>10270</th>\n",
              "      <td>0.405313</td>\n",
              "      <td>male</td>\n",
              "      <td>0.105229</td>\n",
              "      <td>0.161577</td>\n",
              "      <td>0.313643</td>\n",
              "      <td>0.165139</td>\n",
              "      <td>0.0</td>\n",
              "      <td>0.0</td>\n",
              "      <td>0.0</td>\n",
              "      <td>0.0</td>\n",
              "      <td>0.0</td>\n",
              "    </tr>\n",
              "    <tr>\n",
              "      <th>32844</th>\n",
              "      <td>0.248816</td>\n",
              "      <td>female</td>\n",
              "      <td>0.675572</td>\n",
              "      <td>0.637211</td>\n",
              "      <td>0.365917</td>\n",
              "      <td>0.233947</td>\n",
              "      <td>0.0</td>\n",
              "      <td>0.0</td>\n",
              "      <td>1.0</td>\n",
              "      <td>0.0</td>\n",
              "      <td>1.0</td>\n",
              "    </tr>\n",
              "    <tr>\n",
              "      <th>...</th>\n",
              "      <td>...</td>\n",
              "      <td>...</td>\n",
              "      <td>...</td>\n",
              "      <td>...</td>\n",
              "      <td>...</td>\n",
              "      <td>...</td>\n",
              "      <td>...</td>\n",
              "      <td>...</td>\n",
              "      <td>...</td>\n",
              "      <td>...</td>\n",
              "      <td>...</td>\n",
              "    </tr>\n",
              "    <tr>\n",
              "      <th>27084</th>\n",
              "      <td>0.655707</td>\n",
              "      <td>male</td>\n",
              "      <td>0.512617</td>\n",
              "      <td>0.614009</td>\n",
              "      <td>0.339780</td>\n",
              "      <td>0.192662</td>\n",
              "      <td>0.0</td>\n",
              "      <td>0.0</td>\n",
              "      <td>0.0</td>\n",
              "      <td>0.0</td>\n",
              "      <td>1.0</td>\n",
              "    </tr>\n",
              "    <tr>\n",
              "      <th>18287</th>\n",
              "      <td>0.467911</td>\n",
              "      <td>male</td>\n",
              "      <td>0.410770</td>\n",
              "      <td>0.335589</td>\n",
              "      <td>0.339780</td>\n",
              "      <td>0.206424</td>\n",
              "      <td>0.5</td>\n",
              "      <td>0.0</td>\n",
              "      <td>0.0</td>\n",
              "      <td>0.0</td>\n",
              "      <td>1.0</td>\n",
              "    </tr>\n",
              "    <tr>\n",
              "      <th>62121</th>\n",
              "      <td>0.843503</td>\n",
              "      <td>male</td>\n",
              "      <td>0.614464</td>\n",
              "      <td>0.428396</td>\n",
              "      <td>0.392054</td>\n",
              "      <td>0.220185</td>\n",
              "      <td>0.0</td>\n",
              "      <td>0.0</td>\n",
              "      <td>0.0</td>\n",
              "      <td>0.0</td>\n",
              "      <td>1.0</td>\n",
              "    </tr>\n",
              "    <tr>\n",
              "      <th>16692</th>\n",
              "      <td>0.906102</td>\n",
              "      <td>female</td>\n",
              "      <td>0.777419</td>\n",
              "      <td>0.683614</td>\n",
              "      <td>0.392054</td>\n",
              "      <td>0.233947</td>\n",
              "      <td>0.5</td>\n",
              "      <td>0.0</td>\n",
              "      <td>0.0</td>\n",
              "      <td>0.0</td>\n",
              "      <td>1.0</td>\n",
              "    </tr>\n",
              "    <tr>\n",
              "      <th>1432</th>\n",
              "      <td>0.655707</td>\n",
              "      <td>female</td>\n",
              "      <td>0.818158</td>\n",
              "      <td>0.683614</td>\n",
              "      <td>0.352849</td>\n",
              "      <td>0.206424</td>\n",
              "      <td>0.0</td>\n",
              "      <td>0.0</td>\n",
              "      <td>0.0</td>\n",
              "      <td>0.0</td>\n",
              "      <td>1.0</td>\n",
              "    </tr>\n",
              "  </tbody>\n",
              "</table>\n",
              "<p>55440 rows × 11 columns</p>\n",
              "</div>"
            ],
            "text/plain": [
              "            age  gender    height    weight     ap_hi     ap_lo  cholesterol  \\\n",
              "20646  0.780905  female  0.695942  0.312388  0.352849  0.206424          1.0   \n",
              "58725  0.217517    male  0.410770  0.370392  0.339780  0.192662          0.0   \n",
              "20428  0.593109    male  0.349662  0.381993  0.352849  0.206424          0.0   \n",
              "10270  0.405313    male  0.105229  0.161577  0.313643  0.165139          0.0   \n",
              "32844  0.248816  female  0.675572  0.637211  0.365917  0.233947          0.0   \n",
              "...         ...     ...       ...       ...       ...       ...          ...   \n",
              "27084  0.655707    male  0.512617  0.614009  0.339780  0.192662          0.0   \n",
              "18287  0.467911    male  0.410770  0.335589  0.339780  0.206424          0.5   \n",
              "62121  0.843503    male  0.614464  0.428396  0.392054  0.220185          0.0   \n",
              "16692  0.906102  female  0.777419  0.683614  0.392054  0.233947          0.5   \n",
              "1432   0.655707  female  0.818158  0.683614  0.352849  0.206424          0.0   \n",
              "\n",
              "       gluc  smoke  alco  active  \n",
              "20646   1.0    0.0   0.0     1.0  \n",
              "58725   0.0    0.0   0.0     0.0  \n",
              "20428   0.0    0.0   0.0     1.0  \n",
              "10270   0.0    0.0   0.0     0.0  \n",
              "32844   0.0    1.0   0.0     1.0  \n",
              "...     ...    ...   ...     ...  \n",
              "27084   0.0    0.0   0.0     1.0  \n",
              "18287   0.0    0.0   0.0     1.0  \n",
              "62121   0.0    0.0   0.0     1.0  \n",
              "16692   0.0    0.0   0.0     1.0  \n",
              "1432    0.0    0.0   0.0     1.0  \n",
              "\n",
              "[55440 rows x 11 columns]"
            ]
          },
          "execution_count": 39,
          "metadata": {},
          "output_type": "execute_result"
        }
      ],
      "source": [
        "scaler = MinMaxScaler()\n",
        "\n",
        "X_train_clean[num_col2] = scaler.fit_transform(X_train_clean[num_col2])\n",
        "X_train_clean"
      ]
    },
    {
      "attachments": {},
      "cell_type": "markdown",
      "metadata": {},
      "source": [
        "Scaling using MinMaxScaler for upnormal distribution"
      ]
    },
    {
      "attachments": {},
      "cell_type": "markdown",
      "metadata": {},
      "source": [
        "### Encoding"
      ]
    },
    {
      "cell_type": "code",
      "execution_count": 40,
      "metadata": {},
      "outputs": [
        {
          "data": {
            "text/html": [
              "<div>\n",
              "<style scoped>\n",
              "    .dataframe tbody tr th:only-of-type {\n",
              "        vertical-align: middle;\n",
              "    }\n",
              "\n",
              "    .dataframe tbody tr th {\n",
              "        vertical-align: top;\n",
              "    }\n",
              "\n",
              "    .dataframe thead th {\n",
              "        text-align: right;\n",
              "    }\n",
              "</style>\n",
              "<table border=\"1\" class=\"dataframe\">\n",
              "  <thead>\n",
              "    <tr style=\"text-align: right;\">\n",
              "      <th></th>\n",
              "      <th>gender</th>\n",
              "      <th>gender_female</th>\n",
              "      <th>gender_male</th>\n",
              "    </tr>\n",
              "  </thead>\n",
              "  <tbody>\n",
              "    <tr>\n",
              "      <th>24640</th>\n",
              "      <td>female</td>\n",
              "      <td>1.0</td>\n",
              "      <td>0.0</td>\n",
              "    </tr>\n",
              "    <tr>\n",
              "      <th>15606</th>\n",
              "      <td>female</td>\n",
              "      <td>1.0</td>\n",
              "      <td>0.0</td>\n",
              "    </tr>\n",
              "    <tr>\n",
              "      <th>14885</th>\n",
              "      <td>male</td>\n",
              "      <td>0.0</td>\n",
              "      <td>1.0</td>\n",
              "    </tr>\n",
              "    <tr>\n",
              "      <th>18118</th>\n",
              "      <td>male</td>\n",
              "      <td>0.0</td>\n",
              "      <td>1.0</td>\n",
              "    </tr>\n",
              "    <tr>\n",
              "      <th>28939</th>\n",
              "      <td>male</td>\n",
              "      <td>0.0</td>\n",
              "      <td>1.0</td>\n",
              "    </tr>\n",
              "  </tbody>\n",
              "</table>\n",
              "</div>"
            ],
            "text/plain": [
              "       gender  gender_female  gender_male\n",
              "24640  female            1.0          0.0\n",
              "15606  female            1.0          0.0\n",
              "14885    male            0.0          1.0\n",
              "18118    male            0.0          1.0\n",
              "28939    male            0.0          1.0"
            ]
          },
          "execution_count": 40,
          "metadata": {},
          "output_type": "execute_result"
        }
      ],
      "source": [
        "enc = OneHotEncoder(sparse=False)\n",
        "\n",
        "cat_enc = pd.DataFrame(enc.fit_transform(X_train_clean[['gender']]))\n",
        "cat_enc.columns = enc.get_feature_names(['gender']).tolist()\n",
        "\n",
        "review = pd.concat([X_train_clean[['gender']].reset_index(drop=True), cat_enc], axis=1)\n",
        "\n",
        "review.sample(5)"
      ]
    },
    {
      "attachments": {},
      "cell_type": "markdown",
      "metadata": {},
      "source": [
        "Gender has been encoded"
      ]
    },
    {
      "cell_type": "code",
      "execution_count": 41,
      "metadata": {},
      "outputs": [
        {
          "data": {
            "text/plain": [
              "20646    1\n",
              "58725    1\n",
              "20428    0\n",
              "10270    0\n",
              "32844    1\n",
              "        ..\n",
              "27084    1\n",
              "18287    0\n",
              "62121    1\n",
              "16692    1\n",
              "1432     0\n",
              "Name: cardio, Length: 55440, dtype: int64"
            ]
          },
          "execution_count": 41,
          "metadata": {},
          "output_type": "execute_result"
        }
      ],
      "source": [
        "y_train"
      ]
    },
    {
      "cell_type": "code",
      "execution_count": 42,
      "metadata": {},
      "outputs": [
        {
          "data": {
            "text/plain": [
              "(55440, 13)"
            ]
          },
          "execution_count": 42,
          "metadata": {},
          "output_type": "execute_result"
        }
      ],
      "source": [
        "df_train_final = pd.concat([X_train_clean[num_col2].reset_index(drop=True), cat_enc, y_train.reset_index(drop=True)], axis=1)\n",
        "df_train_final.shape"
      ]
    },
    {
      "cell_type": "code",
      "execution_count": 43,
      "metadata": {},
      "outputs": [
        {
          "data": {
            "text/html": [
              "<div>\n",
              "<style scoped>\n",
              "    .dataframe tbody tr th:only-of-type {\n",
              "        vertical-align: middle;\n",
              "    }\n",
              "\n",
              "    .dataframe tbody tr th {\n",
              "        vertical-align: top;\n",
              "    }\n",
              "\n",
              "    .dataframe thead th {\n",
              "        text-align: right;\n",
              "    }\n",
              "</style>\n",
              "<table border=\"1\" class=\"dataframe\">\n",
              "  <thead>\n",
              "    <tr style=\"text-align: right;\">\n",
              "      <th></th>\n",
              "      <th>age</th>\n",
              "      <th>height</th>\n",
              "      <th>weight</th>\n",
              "      <th>ap_hi</th>\n",
              "      <th>ap_lo</th>\n",
              "      <th>cholesterol</th>\n",
              "      <th>gluc</th>\n",
              "      <th>smoke</th>\n",
              "      <th>alco</th>\n",
              "      <th>active</th>\n",
              "      <th>gender_female</th>\n",
              "      <th>gender_male</th>\n",
              "      <th>cardio</th>\n",
              "    </tr>\n",
              "  </thead>\n",
              "  <tbody>\n",
              "    <tr>\n",
              "      <th>0</th>\n",
              "      <td>0.780905</td>\n",
              "      <td>0.695942</td>\n",
              "      <td>0.312388</td>\n",
              "      <td>0.352849</td>\n",
              "      <td>0.206424</td>\n",
              "      <td>1.0</td>\n",
              "      <td>1.0</td>\n",
              "      <td>0.0</td>\n",
              "      <td>0.0</td>\n",
              "      <td>1.0</td>\n",
              "      <td>1.0</td>\n",
              "      <td>0.0</td>\n",
              "      <td>1</td>\n",
              "    </tr>\n",
              "    <tr>\n",
              "      <th>1</th>\n",
              "      <td>0.217517</td>\n",
              "      <td>0.410770</td>\n",
              "      <td>0.370392</td>\n",
              "      <td>0.339780</td>\n",
              "      <td>0.192662</td>\n",
              "      <td>0.0</td>\n",
              "      <td>0.0</td>\n",
              "      <td>0.0</td>\n",
              "      <td>0.0</td>\n",
              "      <td>0.0</td>\n",
              "      <td>0.0</td>\n",
              "      <td>1.0</td>\n",
              "      <td>1</td>\n",
              "    </tr>\n",
              "    <tr>\n",
              "      <th>2</th>\n",
              "      <td>0.593109</td>\n",
              "      <td>0.349662</td>\n",
              "      <td>0.381993</td>\n",
              "      <td>0.352849</td>\n",
              "      <td>0.206424</td>\n",
              "      <td>0.0</td>\n",
              "      <td>0.0</td>\n",
              "      <td>0.0</td>\n",
              "      <td>0.0</td>\n",
              "      <td>1.0</td>\n",
              "      <td>0.0</td>\n",
              "      <td>1.0</td>\n",
              "      <td>0</td>\n",
              "    </tr>\n",
              "    <tr>\n",
              "      <th>3</th>\n",
              "      <td>0.405313</td>\n",
              "      <td>0.105229</td>\n",
              "      <td>0.161577</td>\n",
              "      <td>0.313643</td>\n",
              "      <td>0.165139</td>\n",
              "      <td>0.0</td>\n",
              "      <td>0.0</td>\n",
              "      <td>0.0</td>\n",
              "      <td>0.0</td>\n",
              "      <td>0.0</td>\n",
              "      <td>0.0</td>\n",
              "      <td>1.0</td>\n",
              "      <td>0</td>\n",
              "    </tr>\n",
              "    <tr>\n",
              "      <th>4</th>\n",
              "      <td>0.248816</td>\n",
              "      <td>0.675572</td>\n",
              "      <td>0.637211</td>\n",
              "      <td>0.365917</td>\n",
              "      <td>0.233947</td>\n",
              "      <td>0.0</td>\n",
              "      <td>0.0</td>\n",
              "      <td>1.0</td>\n",
              "      <td>0.0</td>\n",
              "      <td>1.0</td>\n",
              "      <td>1.0</td>\n",
              "      <td>0.0</td>\n",
              "      <td>1</td>\n",
              "    </tr>\n",
              "  </tbody>\n",
              "</table>\n",
              "</div>"
            ],
            "text/plain": [
              "        age    height    weight     ap_hi     ap_lo  cholesterol  gluc  smoke  \\\n",
              "0  0.780905  0.695942  0.312388  0.352849  0.206424          1.0   1.0    0.0   \n",
              "1  0.217517  0.410770  0.370392  0.339780  0.192662          0.0   0.0    0.0   \n",
              "2  0.593109  0.349662  0.381993  0.352849  0.206424          0.0   0.0    0.0   \n",
              "3  0.405313  0.105229  0.161577  0.313643  0.165139          0.0   0.0    0.0   \n",
              "4  0.248816  0.675572  0.637211  0.365917  0.233947          0.0   0.0    1.0   \n",
              "\n",
              "   alco  active  gender_female  gender_male  cardio  \n",
              "0   0.0     1.0            1.0          0.0       1  \n",
              "1   0.0     0.0            0.0          1.0       1  \n",
              "2   0.0     1.0            0.0          1.0       0  \n",
              "3   0.0     0.0            0.0          1.0       0  \n",
              "4   0.0     1.0            1.0          0.0       1  "
            ]
          },
          "execution_count": 43,
          "metadata": {},
          "output_type": "execute_result"
        }
      ],
      "source": [
        "df_train_final.head()"
      ]
    },
    {
      "attachments": {},
      "cell_type": "markdown",
      "metadata": {},
      "source": [
        "### VIF  "
      ]
    },
    {
      "cell_type": "code",
      "execution_count": 44,
      "metadata": {},
      "outputs": [],
      "source": [
        "def calc_vif(X):\n",
        "\n",
        "    # Calculating VIF\n",
        "    vif = pd.DataFrame()\n",
        "    vif[\"variables\"] = X.columns\n",
        "    vif[\"VIF\"] = [variance_inflation_factor(X.values, i) for i in range(X.shape[1])]\n",
        "\n",
        "    return(vif)"
      ]
    },
    {
      "cell_type": "code",
      "execution_count": 45,
      "metadata": {},
      "outputs": [
        {
          "data": {
            "text/html": [
              "<div>\n",
              "<style scoped>\n",
              "    .dataframe tbody tr th:only-of-type {\n",
              "        vertical-align: middle;\n",
              "    }\n",
              "\n",
              "    .dataframe tbody tr th {\n",
              "        vertical-align: top;\n",
              "    }\n",
              "\n",
              "    .dataframe thead th {\n",
              "        text-align: right;\n",
              "    }\n",
              "</style>\n",
              "<table border=\"1\" class=\"dataframe\">\n",
              "  <thead>\n",
              "    <tr style=\"text-align: right;\">\n",
              "      <th></th>\n",
              "      <th>variables</th>\n",
              "      <th>VIF</th>\n",
              "    </tr>\n",
              "  </thead>\n",
              "  <tbody>\n",
              "    <tr>\n",
              "      <th>0</th>\n",
              "      <td>age</td>\n",
              "      <td>1.091156</td>\n",
              "    </tr>\n",
              "    <tr>\n",
              "      <th>1</th>\n",
              "      <td>height</td>\n",
              "      <td>1.509009</td>\n",
              "    </tr>\n",
              "    <tr>\n",
              "      <th>2</th>\n",
              "      <td>weight</td>\n",
              "      <td>1.212934</td>\n",
              "    </tr>\n",
              "    <tr>\n",
              "      <th>3</th>\n",
              "      <td>ap_hi</td>\n",
              "      <td>1.226959</td>\n",
              "    </tr>\n",
              "    <tr>\n",
              "      <th>4</th>\n",
              "      <td>ap_lo</td>\n",
              "      <td>1.059369</td>\n",
              "    </tr>\n",
              "    <tr>\n",
              "      <th>5</th>\n",
              "      <td>cholesterol</td>\n",
              "      <td>1.346581</td>\n",
              "    </tr>\n",
              "    <tr>\n",
              "      <th>6</th>\n",
              "      <td>gluc</td>\n",
              "      <td>1.266566</td>\n",
              "    </tr>\n",
              "    <tr>\n",
              "      <th>7</th>\n",
              "      <td>smoke</td>\n",
              "      <td>1.246822</td>\n",
              "    </tr>\n",
              "    <tr>\n",
              "      <th>8</th>\n",
              "      <td>alco</td>\n",
              "      <td>1.138058</td>\n",
              "    </tr>\n",
              "    <tr>\n",
              "      <th>9</th>\n",
              "      <td>active</td>\n",
              "      <td>1.003570</td>\n",
              "    </tr>\n",
              "    <tr>\n",
              "      <th>10</th>\n",
              "      <td>gender_female</td>\n",
              "      <td>75.688271</td>\n",
              "    </tr>\n",
              "    <tr>\n",
              "      <th>11</th>\n",
              "      <td>gender_male</td>\n",
              "      <td>131.743002</td>\n",
              "    </tr>\n",
              "    <tr>\n",
              "      <th>12</th>\n",
              "      <td>cardio</td>\n",
              "      <td>1.233990</td>\n",
              "    </tr>\n",
              "  </tbody>\n",
              "</table>\n",
              "</div>"
            ],
            "text/plain": [
              "        variables         VIF\n",
              "0             age    1.091156\n",
              "1          height    1.509009\n",
              "2          weight    1.212934\n",
              "3           ap_hi    1.226959\n",
              "4           ap_lo    1.059369\n",
              "5     cholesterol    1.346581\n",
              "6            gluc    1.266566\n",
              "7           smoke    1.246822\n",
              "8            alco    1.138058\n",
              "9          active    1.003570\n",
              "10  gender_female   75.688271\n",
              "11    gender_male  131.743002\n",
              "12         cardio    1.233990"
            ]
          },
          "execution_count": 45,
          "metadata": {},
          "output_type": "execute_result"
        }
      ],
      "source": [
        "calc_vif(df_train_final)"
      ]
    },
    {
      "attachments": {},
      "cell_type": "markdown",
      "metadata": {},
      "source": [
        "looking for vif scores to consideration"
      ]
    },
    {
      "cell_type": "code",
      "execution_count": 46,
      "metadata": {},
      "outputs": [
        {
          "data": {
            "image/png": "[encoded data removed]",
            "text/plain": [
              "<Figure size 2000x1000 with 2 Axes>"
            ]
          },
          "metadata": {},
          "output_type": "display_data"
        }
      ],
      "source": [
        "# pearson correlation for x_train_final\n",
        "\n",
        "fig,ax = plt.subplots(figsize=[20,10])\n",
        "\n",
        "corr = df_train_final.corr()\n",
        "\n",
        "ax = sns.heatmap(corr,annot=True)\n",
        "plt.show()"
      ]
    },
    {
      "attachments": {},
      "cell_type": "markdown",
      "metadata": {},
      "source": [
        "List of action :  \n",
        "1. numerical : \n",
        "    - outlier handled (winsorizer)\n",
        "    - scaling using MinMaxScaler\n",
        "2. categorical :\n",
        "    - encoding using ohe for ['gender']"
      ]
    },
    {
      "attachments": {},
      "cell_type": "markdown",
      "metadata": {},
      "source": [
        "### Pipeline Preprocess"
      ]
    },
    {
      "cell_type": "code",
      "execution_count": 47,
      "metadata": {},
      "outputs": [
        {
          "data": {
            "text/plain": [
              "array([[0.7809047 , 0.69594189, 0.31238773, ..., 0.        , 0.        ,\n",
              "        1.        ],\n",
              "       [0.2175168 , 0.41077037, 0.37039181, ..., 0.        , 0.        ,\n",
              "        0.        ],\n",
              "       [0.59310873, 0.34966218, 0.38199263, ..., 0.        , 0.        ,\n",
              "        1.        ],\n",
              "       ...,\n",
              "       [0.84350336, 0.61446432, 0.4283959 , ..., 0.        , 0.        ,\n",
              "        1.        ],\n",
              "       [0.90610202, 0.77741947, 0.68361388, ..., 0.        , 0.        ,\n",
              "        1.        ],\n",
              "       [0.65570739, 0.81815826, 0.68361388, ..., 0.        , 0.        ,\n",
              "        1.        ]])"
            ]
          },
          "execution_count": 47,
          "metadata": {},
          "output_type": "execute_result"
        }
      ],
      "source": [
        "num_pipe = Pipeline([\n",
        "        ('outlier', Winsorizer(capping_method='gaussian', fold=3, tail='both')),\n",
        "        ('scaler', MinMaxScaler())\n",
        "    ])\n",
        "\n",
        "num_tr = num_pipe.fit_transform(X_train[num_col2])\n",
        "num_tr"
      ]
    },
    {
      "cell_type": "code",
      "execution_count": 48,
      "metadata": {},
      "outputs": [
        {
          "data": {
            "text/plain": [
              "array([[1., 0.],\n",
              "       [0., 1.],\n",
              "       [0., 1.],\n",
              "       ...,\n",
              "       [0., 1.],\n",
              "       [1., 0.],\n",
              "       [1., 0.]])"
            ]
          },
          "execution_count": 48,
          "metadata": {},
          "output_type": "execute_result"
        }
      ],
      "source": [
        "cat_pipe = Pipeline([\n",
        "    ('encoder', OneHotEncoder(sparse=False))\n",
        "    ])\n",
        "\n",
        "cat_tr = cat_pipe.fit_transform(X_train[['gender']])\n",
        "cat_tr"
      ]
    },
    {
      "cell_type": "code",
      "execution_count": 49,
      "metadata": {},
      "outputs": [
        {
          "data": {
            "text/plain": [
              "array([[0.7809047 , 0.69594189, 0.31238773, ..., 1.        , 1.        ,\n",
              "        0.        ],\n",
              "       [0.2175168 , 0.41077037, 0.37039181, ..., 0.        , 0.        ,\n",
              "        1.        ],\n",
              "       [0.59310873, 0.34966218, 0.38199263, ..., 1.        , 0.        ,\n",
              "        1.        ],\n",
              "       ...,\n",
              "       [0.84350336, 0.61446432, 0.4283959 , ..., 1.        , 0.        ,\n",
              "        1.        ],\n",
              "       [0.90610202, 0.77741947, 0.68361388, ..., 1.        , 1.        ,\n",
              "        0.        ],\n",
              "       [0.65570739, 0.81815826, 0.68361388, ..., 1.        , 1.        ,\n",
              "        0.        ]])"
            ]
          },
          "execution_count": 49,
          "metadata": {},
          "output_type": "execute_result"
        }
      ],
      "source": [
        "pipe_preprocess = ColumnTransformer([\n",
        "    ('pipe_1', num_pipe,num_col2),\n",
        "    ('pipe_2', cat_pipe,cat_col2)\n",
        "])\n",
        "\n",
        "train_tr = pipe_preprocess.fit_transform(X_train)\n",
        "train_tr"
      ]
    },
    {
      "cell_type": "code",
      "execution_count": 50,
      "metadata": {},
      "outputs": [
        {
          "data": {
            "text/plain": [
              "array([[0.90610202, 0.6552031 , 0.68361388, ..., 0.        , 1.        ,\n",
              "        0.        ],\n",
              "       [0.62440806, 0.87926645, 0.43999672, ..., 0.        , 1.        ,\n",
              "        0.        ],\n",
              "       [0.49921075, 0.69594189, 0.49800081, ..., 1.        , 0.        ,\n",
              "        1.        ],\n",
              "       ...,\n",
              "       [0.96870067, 0.61446432, 0.86922696, ..., 0.        , 1.        ,\n",
              "        0.        ],\n",
              "       [0.87480269, 0.43113976, 0.68361388, ..., 1.        , 0.        ,\n",
              "        1.        ],\n",
              "       [0.65570739, 0.57372553, 0.39359345, ..., 1.        , 0.        ,\n",
              "        1.        ]])"
            ]
          },
          "execution_count": 50,
          "metadata": {},
          "output_type": "execute_result"
        }
      ],
      "source": [
        "test_tr = pipe_preprocess.transform(X_test)\n",
        "test_tr"
      ]
    },
    {
      "attachments": {},
      "cell_type": "markdown",
      "metadata": {},
      "source": [
        "### Model Definition"
      ]
    },
    {
      "attachments": {},
      "cell_type": "markdown",
      "metadata": {},
      "source": [
        "In this section, we are looking to performance from 5 types of model  \n",
        "\n",
        "- Logistic Regression\n",
        "- SVC\n",
        "- Decision Tree\n",
        "- Random Forest\n",
        "- KNN"
      ]
    },
    {
      "attachments": {},
      "cell_type": "markdown",
      "metadata": {},
      "source": [
        "Initial Model"
      ]
    },
    {
      "cell_type": "code",
      "execution_count": 51,
      "metadata": {},
      "outputs": [],
      "source": [
        "log_reg = LogisticRegression(random_state=42)\n",
        "svc = SVC(random_state=42)\n",
        "model_dt = DecisionTreeClassifier(random_state=42)\n",
        "rand_for = RandomForestClassifier(random_state=42)\n",
        "knn = KNeighborsClassifier()"
      ]
    },
    {
      "attachments": {},
      "cell_type": "markdown",
      "metadata": {},
      "source": [
        "### Model Training"
      ]
    },
    {
      "attachments": {},
      "cell_type": "markdown",
      "metadata": {},
      "source": [
        "##### **Logistic Regression**"
      ]
    },
    {
      "cell_type": "code",
      "execution_count": 52,
      "metadata": {},
      "outputs": [
        {
          "name": "stdout",
          "output_type": "stream",
          "text": [
            "              precision    recall  f1-score   support\n",
            "\n",
            "           0       0.70      0.77      0.73     27743\n",
            "           1       0.74      0.68      0.71     27697\n",
            "\n",
            "    accuracy                           0.72     55440\n",
            "   macro avg       0.72      0.72      0.72     55440\n",
            "weighted avg       0.72      0.72      0.72     55440\n",
            "\n",
            "====================================================================================================\n",
            "              precision    recall  f1-score   support\n",
            "\n",
            "           0       0.70      0.76      0.73      6936\n",
            "           1       0.73      0.67      0.70      6925\n",
            "\n",
            "    accuracy                           0.72     13861\n",
            "   macro avg       0.72      0.72      0.71     13861\n",
            "weighted avg       0.72      0.72      0.71     13861\n",
            "\n"
          ]
        }
      ],
      "source": [
        "log_reg.fit(train_tr, y_train)\n",
        "\n",
        "lr_train = log_reg.predict(train_tr)\n",
        "lr_test = log_reg.predict(test_tr)\n",
        "\n",
        "print(classification_report(y_train, lr_train))\n",
        "print(100*'=')\n",
        "print(classification_report(y_test, lr_test))"
      ]
    },
    {
      "attachments": {},
      "cell_type": "markdown",
      "metadata": {},
      "source": [
        "##### **SVC**"
      ]
    },
    {
      "cell_type": "code",
      "execution_count": 53,
      "metadata": {},
      "outputs": [
        {
          "name": "stdout",
          "output_type": "stream",
          "text": [
            "              precision    recall  f1-score   support\n",
            "\n",
            "           0       0.71      0.77      0.74     27743\n",
            "           1       0.75      0.68      0.71     27697\n",
            "\n",
            "    accuracy                           0.73     55440\n",
            "   macro avg       0.73      0.73      0.73     55440\n",
            "weighted avg       0.73      0.73      0.73     55440\n",
            "\n",
            "====================================================================================================\n",
            "              precision    recall  f1-score   support\n",
            "\n",
            "           0       0.70      0.77      0.73      6936\n",
            "           1       0.74      0.67      0.70      6925\n",
            "\n",
            "    accuracy                           0.72     13861\n",
            "   macro avg       0.72      0.72      0.72     13861\n",
            "weighted avg       0.72      0.72      0.72     13861\n",
            "\n"
          ]
        }
      ],
      "source": [
        "svc.fit(train_tr, y_train)\n",
        "\n",
        "svc_train = svc.predict(train_tr)\n",
        "svc_test = svc.predict(test_tr)\n",
        "\n",
        "print(classification_report(y_train, svc_train))\n",
        "print(100*'=')\n",
        "print(classification_report(y_test, svc_test))"
      ]
    },
    {
      "attachments": {},
      "cell_type": "markdown",
      "metadata": {},
      "source": [
        "##### **Decision Tree**"
      ]
    },
    {
      "cell_type": "code",
      "execution_count": 54,
      "metadata": {},
      "outputs": [
        {
          "name": "stdout",
          "output_type": "stream",
          "text": [
            "              precision    recall  f1-score   support\n",
            "\n",
            "           0       0.96      0.99      0.98     27743\n",
            "           1       0.99      0.96      0.98     27697\n",
            "\n",
            "    accuracy                           0.98     55440\n",
            "   macro avg       0.98      0.98      0.98     55440\n",
            "weighted avg       0.98      0.98      0.98     55440\n",
            "\n",
            "====================================================================================================\n",
            "              precision    recall  f1-score   support\n",
            "\n",
            "           0       0.63      0.65      0.64      6936\n",
            "           1       0.64      0.62      0.63      6925\n",
            "\n",
            "    accuracy                           0.64     13861\n",
            "   macro avg       0.64      0.64      0.64     13861\n",
            "weighted avg       0.64      0.64      0.64     13861\n",
            "\n"
          ]
        }
      ],
      "source": [
        "model_dt.fit(train_tr, y_train)\n",
        "\n",
        "dt_train = model_dt.predict(train_tr)\n",
        "dt_test = model_dt.predict(test_tr)\n",
        "\n",
        "print(classification_report(y_train, dt_train))\n",
        "print(100*'=')\n",
        "print(classification_report(y_test, dt_test))"
      ]
    },
    {
      "attachments": {},
      "cell_type": "markdown",
      "metadata": {},
      "source": [
        "##### **Random Forest**"
      ]
    },
    {
      "cell_type": "code",
      "execution_count": 55,
      "metadata": {},
      "outputs": [
        {
          "name": "stdout",
          "output_type": "stream",
          "text": [
            "              precision    recall  f1-score   support\n",
            "\n",
            "           0       0.97      0.98      0.98     27743\n",
            "           1       0.98      0.97      0.98     27697\n",
            "\n",
            "    accuracy                           0.98     55440\n",
            "   macro avg       0.98      0.98      0.98     55440\n",
            "weighted avg       0.98      0.98      0.98     55440\n",
            "\n",
            "====================================================================================================\n",
            "              precision    recall  f1-score   support\n",
            "\n",
            "           0       0.70      0.70      0.70      6936\n",
            "           1       0.70      0.70      0.70      6925\n",
            "\n",
            "    accuracy                           0.70     13861\n",
            "   macro avg       0.70      0.70      0.70     13861\n",
            "weighted avg       0.70      0.70      0.70     13861\n",
            "\n"
          ]
        }
      ],
      "source": [
        "rand_for.fit(train_tr, y_train)\n",
        "\n",
        "rf_train = rand_for.predict(train_tr)\n",
        "rf_test = rand_for.predict(test_tr)\n",
        "\n",
        "print(classification_report(y_train, rf_train))\n",
        "print(100*'=')\n",
        "print(classification_report(y_test, rf_test))"
      ]
    },
    {
      "attachments": {},
      "cell_type": "markdown",
      "metadata": {},
      "source": [
        "##### **KNN**"
      ]
    },
    {
      "cell_type": "code",
      "execution_count": 56,
      "metadata": {},
      "outputs": [
        {
          "name": "stdout",
          "output_type": "stream",
          "text": [
            "              precision    recall  f1-score   support\n",
            "\n",
            "           0       0.76      0.78      0.77     27743\n",
            "           1       0.78      0.75      0.77     27697\n",
            "\n",
            "    accuracy                           0.77     55440\n",
            "   macro avg       0.77      0.77      0.77     55440\n",
            "weighted avg       0.77      0.77      0.77     55440\n",
            "\n",
            "====================================================================================================\n",
            "              precision    recall  f1-score   support\n",
            "\n",
            "           0       0.65      0.67      0.66      6936\n",
            "           1       0.66      0.64      0.65      6925\n",
            "\n",
            "    accuracy                           0.65     13861\n",
            "   macro avg       0.65      0.65      0.65     13861\n",
            "weighted avg       0.65      0.65      0.65     13861\n",
            "\n"
          ]
        }
      ],
      "source": [
        "knn.fit(train_tr, y_train)\n",
        "\n",
        "knn_train = knn.predict(train_tr)\n",
        "knn_test = knn.predict(test_tr)\n",
        "\n",
        "print(classification_report(y_train, knn_train))\n",
        "print(100*'=')\n",
        "print(classification_report(y_test, knn_test))"
      ]
    },
    {
      "attachments": {},
      "cell_type": "markdown",
      "metadata": {},
      "source": [
        "From the classification report above we should considered the recall score. which means that we want to reduce false negative and increase the sensivity from our model. class 1 means presence of diseas and class 0 absence the disease. From each model we considered to choose random forest. Next we should tuning the model for the best result."
      ]
    },
    {
      "attachments": {},
      "cell_type": "markdown",
      "metadata": {},
      "source": [
        "#### Cross-Validation"
      ]
    },
    {
      "cell_type": "code",
      "execution_count": 57,
      "metadata": {},
      "outputs": [
        {
          "name": "stdout",
          "output_type": "stream",
          "text": [
            "recall scores: [0.66859206 0.67148014 0.67184116 0.67220217 0.66931408 0.67833935\n",
            " 0.6866426  0.69230769 0.68652943 0.68761286]\n",
            "====================================================================================================\n",
            "Mean recall: 0.678486153428951\n",
            "Standard deviation: 0.008487189676294917\n"
          ]
        }
      ],
      "source": [
        "# Model LogReg\n",
        "scores_lr = cross_val_score(log_reg, train_tr, y_train,scoring=\"recall\", cv=10)\n",
        "\n",
        "print(\"recall scores:\", scores_lr)\n",
        "print(100*'=')\n",
        "print(\"Mean recall:\", scores_lr.mean())\n",
        "print(\"Standard deviation:\", scores_lr.std())"
      ]
    },
    {
      "cell_type": "code",
      "execution_count": 58,
      "metadata": {},
      "outputs": [
        {
          "name": "stdout",
          "output_type": "stream",
          "text": [
            "recall scores: [0.66534296 0.67256318 0.67184116 0.67400722 0.66750903 0.67725632\n",
            " 0.68953069 0.69086313 0.67930661 0.69014085]\n",
            "====================================================================================================\n",
            "Mean recall: 0.6778361122953587\n",
            "Standard deviation: 0.008952667164341201\n"
          ]
        }
      ],
      "source": [
        "# Model SVC\n",
        "scores_svc = cross_val_score(svc, train_tr, y_train,scoring=\"recall\", cv=10)\n",
        "\n",
        "print(\"recall scores:\", scores_svc)\n",
        "print(100*'=')\n",
        "print(\"Mean recall:\", scores_svc.mean())\n",
        "print(\"Standard deviation:\", scores_svc.std())"
      ]
    },
    {
      "cell_type": "code",
      "execution_count": 59,
      "metadata": {},
      "outputs": [
        {
          "name": "stdout",
          "output_type": "stream",
          "text": [
            "recall scores: [0.60361011 0.63104693 0.6234657  0.63212996 0.60397112 0.63104693\n",
            " 0.62202166 0.61899603 0.60888407 0.6283857 ]\n",
            "====================================================================================================\n",
            "Mean recall: 0.6203558218700336\n",
            "Standard deviation: 0.010613589544457349\n"
          ]
        }
      ],
      "source": [
        "# Model Decision Tree\n",
        "\n",
        "scores_dt = cross_val_score(model_dt, train_tr, y_train,scoring=\"recall\", cv=10)\n",
        "\n",
        "print(\"recall scores:\", scores_dt)\n",
        "print(100*'=')\n",
        "print(\"Mean recall:\", scores_dt.mean())\n",
        "print(\"Standard deviation:\", scores_dt.std())"
      ]
    },
    {
      "cell_type": "code",
      "execution_count": 71,
      "metadata": {},
      "outputs": [
        {
          "name": "stdout",
          "output_type": "stream",
          "text": [
            "recall scores: [0.69530686 0.69314079 0.70036101 0.71480144 0.70397112 0.71227437\n",
            " 0.70433213 0.71722644 0.70169736 0.70530878]\n",
            "====================================================================================================\n",
            "Mean recall: 0.704842030056857\n",
            "Standard deviation: 0.007528919413912477\n"
          ]
        }
      ],
      "source": [
        "# model random forest\n",
        "\n",
        "score_rf = cross_val_score(rand_for,train_tr, y_train, scoring=\"recall\", cv=10)\n",
        "\n",
        "print(\"recall scores:\", score_rf)\n",
        "print(100*'=')\n",
        "print(\"Mean recall:\", score_rf.mean())\n",
        "print(\"Standard deviation:\", score_rf.std())"
      ]
    },
    {
      "cell_type": "code",
      "execution_count": 72,
      "metadata": {},
      "outputs": [
        {
          "name": "stdout",
          "output_type": "stream",
          "text": [
            "recall scores: [0.62129964 0.63285199 0.62382671 0.64296029 0.62057762 0.62093863\n",
            " 0.64620939 0.64427591 0.63308053 0.64499819]\n",
            "====================================================================================================\n",
            "Mean recall: 0.6331018900592298\n",
            "Standard deviation: 0.010322608989234901\n"
          ]
        }
      ],
      "source": [
        "# model knn\n",
        "\n",
        "scores_knn = cross_val_score(knn,train_tr, y_train, scoring=\"recall\", cv=10)\n",
        "\n",
        "print(\"recall scores:\", scores_knn)\n",
        "print(100*'=')\n",
        "print(\"Mean recall:\", scores_knn.mean())\n",
        "print(\"Standard deviation:\", scores_knn.std())"
      ]
    },
    {
      "attachments": {},
      "cell_type": "markdown",
      "metadata": {},
      "source": [
        "**Hyper-param Tuning**"
      ]
    },
    {
      "cell_type": "code",
      "execution_count": 60,
      "metadata": {},
      "outputs": [],
      "source": [
        "# Number of trees in random forest\n",
        "n_estimators = [int(x) for x in np.linspace(start = 40, stop = 80, num = 5)]\n",
        "# Number of features to consider at every split\n",
        "max_features = ['auto']\n",
        "# Maximum number of levels in tree\n",
        "max_depth = [int(x) for x in np.linspace(start = 10, stop = 50, num = 7)]\n",
        "# Minimum number of samples required to split a node\n",
        "min_samples_split = [10,20,30,40]\n",
        "# Minimum number of samples required at each leaf node\n",
        "min_samples_leaf = [10,20,30,40]\n",
        "# criterion\n",
        "criterion = ['gini','entropy']\n",
        "# Method of selecting samples for training each tree\n",
        "bootstrap = [True]"
      ]
    },
    {
      "cell_type": "code",
      "execution_count": 61,
      "metadata": {},
      "outputs": [
        {
          "data": {
            "text/plain": [
              "RandomizedSearchCV(cv=10, estimator=RandomForestClassifier(random_state=42),\n",
              "                   param_distributions=[{'criterion': ['gini', 'entropy'],\n",
              "                                         'max_depth': [10, 16, 23, 30, 36, 43,\n",
              "                                                       50],\n",
              "                                         'max_features': ['auto'],\n",
              "                                         'min_samples_leaf': [10, 20, 30, 40],\n",
              "                                         'min_samples_split': [10, 20, 30, 40],\n",
              "                                         'n_estimators': [40, 50, 60, 70, 80]}],\n",
              "                   return_train_score=True, scoring='recall')"
            ]
          },
          "execution_count": 61,
          "metadata": {},
          "output_type": "execute_result"
        }
      ],
      "source": [
        "params = [\n",
        "    {'n_estimators': n_estimators,        \n",
        "     'max_features': max_features,            \n",
        "     'max_depth': max_depth,\n",
        "     'min_samples_split': min_samples_split,\n",
        "     'min_samples_leaf': min_samples_leaf,                           \n",
        "     'criterion': criterion     \n",
        "  }]\n",
        "\n",
        "\n",
        "rand_search = RandomizedSearchCV(rand_for, params, cv=10,\n",
        "                           scoring='recall',\n",
        "                           return_train_score=True)\n",
        "rand_search.fit(train_tr, y_train)"
      ]
    },
    {
      "cell_type": "code",
      "execution_count": 62,
      "metadata": {},
      "outputs": [
        {
          "data": {
            "text/plain": [
              "{'n_estimators': 60,\n",
              " 'min_samples_split': 10,\n",
              " 'min_samples_leaf': 10,\n",
              " 'max_features': 'auto',\n",
              " 'max_depth': 43,\n",
              " 'criterion': 'gini'}"
            ]
          },
          "execution_count": 62,
          "metadata": {},
          "output_type": "execute_result"
        }
      ],
      "source": [
        "rand_search.best_params_"
      ]
    },
    {
      "attachments": {},
      "cell_type": "markdown",
      "metadata": {},
      "source": [
        "We got the result of tuning"
      ]
    },
    {
      "cell_type": "code",
      "execution_count": 63,
      "metadata": {},
      "outputs": [
        {
          "data": {
            "text/plain": [
              "0.6968268986314443"
            ]
          },
          "execution_count": 63,
          "metadata": {},
          "output_type": "execute_result"
        }
      ],
      "source": [
        "rand_search.best_score_"
      ]
    },
    {
      "attachments": {},
      "cell_type": "markdown",
      "metadata": {},
      "source": [
        "best recall score of tuning"
      ]
    },
    {
      "cell_type": "code",
      "execution_count": 64,
      "metadata": {},
      "outputs": [
        {
          "name": "stdout",
          "output_type": "stream",
          "text": [
            "              precision    recall  f1-score   support\n",
            "\n",
            "           0       0.74      0.80      0.77     27743\n",
            "           1       0.79      0.72      0.75     27697\n",
            "\n",
            "    accuracy                           0.76     55440\n",
            "   macro avg       0.77      0.76      0.76     55440\n",
            "weighted avg       0.77      0.76      0.76     55440\n",
            "\n",
            "              precision    recall  f1-score   support\n",
            "\n",
            "           0       0.71      0.77      0.74      6936\n",
            "           1       0.75      0.69      0.72      6925\n",
            "\n",
            "    accuracy                           0.73     13861\n",
            "   macro avg       0.73      0.73      0.73     13861\n",
            "weighted avg       0.73      0.73      0.73     13861\n",
            "\n"
          ]
        }
      ],
      "source": [
        "model = rand_search.best_estimator_\n",
        "\n",
        "model.fit(train_tr, y_train)\n",
        "\n",
        "model_train = model.predict(train_tr)\n",
        "model_test = model.predict(test_tr)\n",
        "\n",
        "print(classification_report(y_train, model_train))\n",
        "print(classification_report(y_test, model_test))"
      ]
    },
    {
      "cell_type": "code",
      "execution_count": 65,
      "metadata": {},
      "outputs": [
        {
          "data": {
            "text/plain": [
              "array([1, 0, 1, ..., 1, 1, 0])"
            ]
          },
          "execution_count": 65,
          "metadata": {},
          "output_type": "execute_result"
        }
      ],
      "source": [
        "final_pipe = Pipeline([\n",
        "            ('preprocess', pipe_preprocess),\n",
        "            ('classification', model)\n",
        "])\n",
        "\n",
        "final_pipe.fit(X_train,y_train)\n",
        "final_pipe.predict(X_test)"
      ]
    },
    {
      "cell_type": "code",
      "execution_count": 66,
      "metadata": {},
      "outputs": [
        {
          "data": {
            "text/plain": [
              "Pipeline(steps=[('preprocess',\n",
              "                 ColumnTransformer(transformers=[('pipe_1',\n",
              "                                                  Pipeline(steps=[('outlier',\n",
              "                                                                   Winsorizer(tail='both')),\n",
              "                                                                  ('scaler',\n",
              "                                                                   MinMaxScaler())]),\n",
              "                                                  ['age', 'height', 'weight',\n",
              "                                                   'ap_hi', 'ap_lo',\n",
              "                                                   'cholesterol', 'gluc',\n",
              "                                                   'smoke', 'alco', 'active']),\n",
              "                                                 ('pipe_2',\n",
              "                                                  Pipeline(steps=[('encoder',\n",
              "                                                                   OneHotEncoder(sparse=False))]),\n",
              "                                                  ['gender'])])),\n",
              "                ('classification',\n",
              "                 RandomForestClassifier(max_depth=43, min_samples_leaf=10,\n",
              "                                        min_samples_split=10, n_estimators=60,\n",
              "                                        random_state=42))])"
            ]
          },
          "execution_count": 66,
          "metadata": {},
          "output_type": "execute_result"
        }
      ],
      "source": [
        "final_pipe"
      ]
    },
    {
      "attachments": {},
      "cell_type": "markdown",
      "metadata": {},
      "source": [
        "## Model Saving"
      ]
    },
    {
      "attachments": {},
      "cell_type": "markdown",
      "metadata": {},
      "source": [
        "Dalam tahap ini dilakukan penyimpanan model dan file lain terkait dengan hasil pembuatan model"
      ]
    },
    {
      "cell_type": "code",
      "execution_count": 67,
      "metadata": {},
      "outputs": [],
      "source": [
        "# Save the Files\n",
        "\n",
        "import pickle, joblib\n",
        "import json\n",
        "\n",
        "with open('model.pkl', 'wb') as file_1:\n",
        "  pickle.dump(model, file_1)\n",
        "\n",
        "with open ('full_pipe.pkl','wb' ) as file_2:\n",
        "  pickle.dump(final_pipe, file_2)\n",
        "\n",
        "with open('list_num_cols.txt', 'w') as file_3:\n",
        "  json.dump(num_col2, file_3)\n",
        "\n",
        "with open('list_cat_cols.txt','w') as file_4: \n",
        "  json.dump(cat_col2, file_4)\n",
        "\n",
        "# with open('boosted.pkl', 'wb') as file_2:\n",
        "#   pickle.dump(boost_model, file_2)\n",
        "\n",
        "# with open('model_scaler.pkl', 'wb') as file_3:\n",
        "#   pickle.dump(scaler, file_3)\n",
        "\n",
        "# # with open('model_encoder.pkl', 'wb') as file_4:\n",
        "# #   pickle.dump(encoder, file_4)\n",
        "\n",
        "\n",
        "\n",
        "# # joblib.dump(num_pipeline, 'num_pipeline_model.joblib')\n",
        "# with open('pipeline_predictor.pkl', 'wb') as file_7:\n",
        "#     pickle.dump(final_pipe, file_7)\n",
        "# joblib.dump(final_pipe, 'pipeline_predictor.joblib')\n",
        "\n",
        "# with open ('pipeline_1.pkl','wb' ) as file_8:\n",
        "#   pickle.dump(num_pipeline, file_8)\n",
        "\n",
        "# with open ('pipeline_2.pkl','wb' ) as file_9:\n",
        "#   pickle.dump(num2_pipeline, file_9)\n",
        "  \n",
        "\n",
        "\n",
        "\n"
      ]
    },
    {
      "cell_type": "code",
      "execution_count": 68,
      "metadata": {},
      "outputs": [
        {
          "name": "stdout",
          "output_type": "stream",
          "text": [
            "<class 'pandas.core.frame.DataFrame'>\n",
            "Int64Index: 55440 entries, 20646 to 1432\n",
            "Data columns (total 11 columns):\n",
            " #   Column       Non-Null Count  Dtype  \n",
            "---  ------       --------------  -----  \n",
            " 0   age          55440 non-null  float64\n",
            " 1   gender       55440 non-null  object \n",
            " 2   height       55440 non-null  int64  \n",
            " 3   weight       55440 non-null  float64\n",
            " 4   ap_hi        55440 non-null  int64  \n",
            " 5   ap_lo        55440 non-null  int64  \n",
            " 6   cholesterol  55440 non-null  int64  \n",
            " 7   gluc         55440 non-null  int64  \n",
            " 8   smoke        55440 non-null  int64  \n",
            " 9   alco         55440 non-null  int64  \n",
            " 10  active       55440 non-null  int64  \n",
            "dtypes: float64(2), int64(8), object(1)\n",
            "memory usage: 5.1+ MB\n"
          ]
        }
      ],
      "source": [
        "X_train.info()"
      ]
    },
    {
      "cell_type": "code",
      "execution_count": 69,
      "metadata": {},
      "outputs": [
        {
          "data": {
            "text/html": [
              "<div>\n",
              "<style scoped>\n",
              "    .dataframe tbody tr th:only-of-type {\n",
              "        vertical-align: middle;\n",
              "    }\n",
              "\n",
              "    .dataframe tbody tr th {\n",
              "        vertical-align: top;\n",
              "    }\n",
              "\n",
              "    .dataframe thead th {\n",
              "        text-align: right;\n",
              "    }\n",
              "</style>\n",
              "<table border=\"1\" class=\"dataframe\">\n",
              "  <thead>\n",
              "    <tr style=\"text-align: right;\">\n",
              "      <th></th>\n",
              "      <th>age</th>\n",
              "      <th>height</th>\n",
              "      <th>weight</th>\n",
              "      <th>ap_hi</th>\n",
              "      <th>ap_lo</th>\n",
              "      <th>cholesterol</th>\n",
              "      <th>gluc</th>\n",
              "      <th>smoke</th>\n",
              "      <th>alco</th>\n",
              "      <th>active</th>\n",
              "    </tr>\n",
              "  </thead>\n",
              "  <tbody>\n",
              "    <tr>\n",
              "      <th>count</th>\n",
              "      <td>55440.000000</td>\n",
              "      <td>55440.000000</td>\n",
              "      <td>55440.000000</td>\n",
              "      <td>55440.000000</td>\n",
              "      <td>55440.000000</td>\n",
              "      <td>55440.000000</td>\n",
              "      <td>55440.000000</td>\n",
              "      <td>55440.000000</td>\n",
              "      <td>55440.000000</td>\n",
              "      <td>55440.000000</td>\n",
              "    </tr>\n",
              "    <tr>\n",
              "      <th>mean</th>\n",
              "      <td>53.323828</td>\n",
              "      <td>164.380574</td>\n",
              "      <td>74.172332</td>\n",
              "      <td>128.979762</td>\n",
              "      <td>96.507377</td>\n",
              "      <td>1.367731</td>\n",
              "      <td>1.227832</td>\n",
              "      <td>0.088654</td>\n",
              "      <td>0.054058</td>\n",
              "      <td>0.803589</td>\n",
              "    </tr>\n",
              "    <tr>\n",
              "      <th>std</th>\n",
              "      <td>6.757798</td>\n",
              "      <td>8.182210</td>\n",
              "      <td>14.366804</td>\n",
              "      <td>162.073605</td>\n",
              "      <td>186.717919</td>\n",
              "      <td>0.680810</td>\n",
              "      <td>0.573362</td>\n",
              "      <td>0.284247</td>\n",
              "      <td>0.226135</td>\n",
              "      <td>0.397286</td>\n",
              "    </tr>\n",
              "    <tr>\n",
              "      <th>min</th>\n",
              "      <td>30.000000</td>\n",
              "      <td>55.000000</td>\n",
              "      <td>10.000000</td>\n",
              "      <td>-150.000000</td>\n",
              "      <td>-70.000000</td>\n",
              "      <td>1.000000</td>\n",
              "      <td>1.000000</td>\n",
              "      <td>0.000000</td>\n",
              "      <td>0.000000</td>\n",
              "      <td>0.000000</td>\n",
              "    </tr>\n",
              "    <tr>\n",
              "      <th>25%</th>\n",
              "      <td>48.000000</td>\n",
              "      <td>159.000000</td>\n",
              "      <td>65.000000</td>\n",
              "      <td>120.000000</td>\n",
              "      <td>80.000000</td>\n",
              "      <td>1.000000</td>\n",
              "      <td>1.000000</td>\n",
              "      <td>0.000000</td>\n",
              "      <td>0.000000</td>\n",
              "      <td>1.000000</td>\n",
              "    </tr>\n",
              "    <tr>\n",
              "      <th>50%</th>\n",
              "      <td>54.000000</td>\n",
              "      <td>165.000000</td>\n",
              "      <td>72.000000</td>\n",
              "      <td>120.000000</td>\n",
              "      <td>80.000000</td>\n",
              "      <td>1.000000</td>\n",
              "      <td>1.000000</td>\n",
              "      <td>0.000000</td>\n",
              "      <td>0.000000</td>\n",
              "      <td>1.000000</td>\n",
              "    </tr>\n",
              "    <tr>\n",
              "      <th>75%</th>\n",
              "      <td>58.000000</td>\n",
              "      <td>170.000000</td>\n",
              "      <td>82.000000</td>\n",
              "      <td>140.000000</td>\n",
              "      <td>90.000000</td>\n",
              "      <td>2.000000</td>\n",
              "      <td>1.000000</td>\n",
              "      <td>0.000000</td>\n",
              "      <td>0.000000</td>\n",
              "      <td>1.000000</td>\n",
              "    </tr>\n",
              "    <tr>\n",
              "      <th>max</th>\n",
              "      <td>65.000000</td>\n",
              "      <td>207.000000</td>\n",
              "      <td>200.000000</td>\n",
              "      <td>16020.000000</td>\n",
              "      <td>11000.000000</td>\n",
              "      <td>3.000000</td>\n",
              "      <td>3.000000</td>\n",
              "      <td>1.000000</td>\n",
              "      <td>1.000000</td>\n",
              "      <td>1.000000</td>\n",
              "    </tr>\n",
              "  </tbody>\n",
              "</table>\n",
              "</div>"
            ],
            "text/plain": [
              "                age        height        weight         ap_hi         ap_lo  \\\n",
              "count  55440.000000  55440.000000  55440.000000  55440.000000  55440.000000   \n",
              "mean      53.323828    164.380574     74.172332    128.979762     96.507377   \n",
              "std        6.757798      8.182210     14.366804    162.073605    186.717919   \n",
              "min       30.000000     55.000000     10.000000   -150.000000    -70.000000   \n",
              "25%       48.000000    159.000000     65.000000    120.000000     80.000000   \n",
              "50%       54.000000    165.000000     72.000000    120.000000     80.000000   \n",
              "75%       58.000000    170.000000     82.000000    140.000000     90.000000   \n",
              "max       65.000000    207.000000    200.000000  16020.000000  11000.000000   \n",
              "\n",
              "        cholesterol          gluc         smoke          alco        active  \n",
              "count  55440.000000  55440.000000  55440.000000  55440.000000  55440.000000  \n",
              "mean       1.367731      1.227832      0.088654      0.054058      0.803589  \n",
              "std        0.680810      0.573362      0.284247      0.226135      0.397286  \n",
              "min        1.000000      1.000000      0.000000      0.000000      0.000000  \n",
              "25%        1.000000      1.000000      0.000000      0.000000      1.000000  \n",
              "50%        1.000000      1.000000      0.000000      0.000000      1.000000  \n",
              "75%        2.000000      1.000000      0.000000      0.000000      1.000000  \n",
              "max        3.000000      3.000000      1.000000      1.000000      1.000000  "
            ]
          },
          "execution_count": 69,
          "metadata": {},
          "output_type": "execute_result"
        }
      ],
      "source": [
        "X_train.describe()"
      ]
    },
    {
      "cell_type": "code",
      "execution_count": 70,
      "metadata": {},
      "outputs": [
        {
          "data": {
            "text/html": [
              "<div>\n",
              "<style scoped>\n",
              "    .dataframe tbody tr th:only-of-type {\n",
              "        vertical-align: middle;\n",
              "    }\n",
              "\n",
              "    .dataframe tbody tr th {\n",
              "        vertical-align: top;\n",
              "    }\n",
              "\n",
              "    .dataframe thead th {\n",
              "        text-align: right;\n",
              "    }\n",
              "</style>\n",
              "<table border=\"1\" class=\"dataframe\">\n",
              "  <thead>\n",
              "    <tr style=\"text-align: right;\">\n",
              "      <th></th>\n",
              "      <th>age</th>\n",
              "      <th>gender</th>\n",
              "      <th>height</th>\n",
              "      <th>weight</th>\n",
              "      <th>ap_hi</th>\n",
              "      <th>ap_lo</th>\n",
              "      <th>cholesterol</th>\n",
              "      <th>gluc</th>\n",
              "      <th>smoke</th>\n",
              "      <th>alco</th>\n",
              "      <th>active</th>\n",
              "    </tr>\n",
              "  </thead>\n",
              "  <tbody>\n",
              "    <tr>\n",
              "      <th>20646</th>\n",
              "      <td>58.0</td>\n",
              "      <td>female</td>\n",
              "      <td>174</td>\n",
              "      <td>58.0</td>\n",
              "      <td>120</td>\n",
              "      <td>80</td>\n",
              "      <td>3</td>\n",
              "      <td>3</td>\n",
              "      <td>0</td>\n",
              "      <td>0</td>\n",
              "      <td>1</td>\n",
              "    </tr>\n",
              "    <tr>\n",
              "      <th>58725</th>\n",
              "      <td>40.0</td>\n",
              "      <td>male</td>\n",
              "      <td>160</td>\n",
              "      <td>63.0</td>\n",
              "      <td>110</td>\n",
              "      <td>70</td>\n",
              "      <td>1</td>\n",
              "      <td>1</td>\n",
              "      <td>0</td>\n",
              "      <td>0</td>\n",
              "      <td>0</td>\n",
              "    </tr>\n",
              "    <tr>\n",
              "      <th>20428</th>\n",
              "      <td>52.0</td>\n",
              "      <td>male</td>\n",
              "      <td>157</td>\n",
              "      <td>64.0</td>\n",
              "      <td>120</td>\n",
              "      <td>80</td>\n",
              "      <td>1</td>\n",
              "      <td>1</td>\n",
              "      <td>0</td>\n",
              "      <td>0</td>\n",
              "      <td>1</td>\n",
              "    </tr>\n",
              "    <tr>\n",
              "      <th>10270</th>\n",
              "      <td>46.0</td>\n",
              "      <td>male</td>\n",
              "      <td>145</td>\n",
              "      <td>45.0</td>\n",
              "      <td>90</td>\n",
              "      <td>50</td>\n",
              "      <td>1</td>\n",
              "      <td>1</td>\n",
              "      <td>0</td>\n",
              "      <td>0</td>\n",
              "      <td>0</td>\n",
              "    </tr>\n",
              "    <tr>\n",
              "      <th>32844</th>\n",
              "      <td>41.0</td>\n",
              "      <td>female</td>\n",
              "      <td>173</td>\n",
              "      <td>86.0</td>\n",
              "      <td>130</td>\n",
              "      <td>100</td>\n",
              "      <td>1</td>\n",
              "      <td>1</td>\n",
              "      <td>1</td>\n",
              "      <td>0</td>\n",
              "      <td>1</td>\n",
              "    </tr>\n",
              "    <tr>\n",
              "      <th>...</th>\n",
              "      <td>...</td>\n",
              "      <td>...</td>\n",
              "      <td>...</td>\n",
              "      <td>...</td>\n",
              "      <td>...</td>\n",
              "      <td>...</td>\n",
              "      <td>...</td>\n",
              "      <td>...</td>\n",
              "      <td>...</td>\n",
              "      <td>...</td>\n",
              "      <td>...</td>\n",
              "    </tr>\n",
              "    <tr>\n",
              "      <th>27084</th>\n",
              "      <td>54.0</td>\n",
              "      <td>male</td>\n",
              "      <td>165</td>\n",
              "      <td>84.0</td>\n",
              "      <td>110</td>\n",
              "      <td>70</td>\n",
              "      <td>1</td>\n",
              "      <td>1</td>\n",
              "      <td>0</td>\n",
              "      <td>0</td>\n",
              "      <td>1</td>\n",
              "    </tr>\n",
              "    <tr>\n",
              "      <th>18287</th>\n",
              "      <td>48.0</td>\n",
              "      <td>male</td>\n",
              "      <td>160</td>\n",
              "      <td>60.0</td>\n",
              "      <td>110</td>\n",
              "      <td>80</td>\n",
              "      <td>2</td>\n",
              "      <td>1</td>\n",
              "      <td>0</td>\n",
              "      <td>0</td>\n",
              "      <td>1</td>\n",
              "    </tr>\n",
              "    <tr>\n",
              "      <th>62121</th>\n",
              "      <td>60.0</td>\n",
              "      <td>male</td>\n",
              "      <td>170</td>\n",
              "      <td>68.0</td>\n",
              "      <td>150</td>\n",
              "      <td>90</td>\n",
              "      <td>1</td>\n",
              "      <td>1</td>\n",
              "      <td>0</td>\n",
              "      <td>0</td>\n",
              "      <td>1</td>\n",
              "    </tr>\n",
              "    <tr>\n",
              "      <th>16692</th>\n",
              "      <td>62.0</td>\n",
              "      <td>female</td>\n",
              "      <td>178</td>\n",
              "      <td>90.0</td>\n",
              "      <td>150</td>\n",
              "      <td>100</td>\n",
              "      <td>2</td>\n",
              "      <td>1</td>\n",
              "      <td>0</td>\n",
              "      <td>0</td>\n",
              "      <td>1</td>\n",
              "    </tr>\n",
              "    <tr>\n",
              "      <th>1432</th>\n",
              "      <td>54.0</td>\n",
              "      <td>female</td>\n",
              "      <td>180</td>\n",
              "      <td>90.0</td>\n",
              "      <td>120</td>\n",
              "      <td>80</td>\n",
              "      <td>1</td>\n",
              "      <td>1</td>\n",
              "      <td>0</td>\n",
              "      <td>0</td>\n",
              "      <td>1</td>\n",
              "    </tr>\n",
              "  </tbody>\n",
              "</table>\n",
              "<p>55440 rows × 11 columns</p>\n",
              "</div>"
            ],
            "text/plain": [
              "        age  gender  height  weight  ap_hi  ap_lo  cholesterol  gluc  smoke  \\\n",
              "20646  58.0  female     174    58.0    120     80            3     3      0   \n",
              "58725  40.0    male     160    63.0    110     70            1     1      0   \n",
              "20428  52.0    male     157    64.0    120     80            1     1      0   \n",
              "10270  46.0    male     145    45.0     90     50            1     1      0   \n",
              "32844  41.0  female     173    86.0    130    100            1     1      1   \n",
              "...     ...     ...     ...     ...    ...    ...          ...   ...    ...   \n",
              "27084  54.0    male     165    84.0    110     70            1     1      0   \n",
              "18287  48.0    male     160    60.0    110     80            2     1      0   \n",
              "62121  60.0    male     170    68.0    150     90            1     1      0   \n",
              "16692  62.0  female     178    90.0    150    100            2     1      0   \n",
              "1432   54.0  female     180    90.0    120     80            1     1      0   \n",
              "\n",
              "       alco  active  \n",
              "20646     0       1  \n",
              "58725     0       0  \n",
              "20428     0       1  \n",
              "10270     0       0  \n",
              "32844     0       1  \n",
              "...     ...     ...  \n",
              "27084     0       1  \n",
              "18287     0       1  \n",
              "62121     0       1  \n",
              "16692     0       1  \n",
              "1432      0       1  \n",
              "\n",
              "[55440 rows x 11 columns]"
            ]
          },
          "execution_count": 70,
          "metadata": {},
          "output_type": "execute_result"
        }
      ],
      "source": [
        "X_train"
      ]
    },
    {
      "attachments": {},
      "cell_type": "markdown",
      "metadata": {},
      "source": [
        "## Conclusion"
      ]
    },
    {
      "attachments": {},
      "cell_type": "markdown",
      "metadata": {},
      "source": [
        "Based on the analysist that we have known, here are the conclusion :  \n",
        "\n",
        "- The best model that we have ran is Random Forest Classifier. It gives the best score of recall around 70%. We use recall for this model in order to reduce of the false negative.  \n",
        "- From the case, recall visualized the sensitivity of model, when it predicted the disease as negative. But in reality it should be positive. So it's totally dangerous condition for patience. Then, the doctor should make the right decision.  \n",
        "- So far, this model is good enough and certainly, it should be improved on the next utilization. "
      ]
    }
  ],
  "metadata": {
    "colab": {
      "provenance": []
    },
    "kernelspec": {
      "display_name": "Python 3",
      "name": "python3"
    },
    "language_info": {
      "codemirror_mode": {
        "name": "ipython",
        "version": 3
      },
      "file_extension": ".py",
      "mimetype": "text/x-python",
      "name": "python",
      "nbconvert_exporter": "python",
      "pygments_lexer": "ipython3",
      "version": "3.7.16"
    }
  },
  "nbformat": 4,
  "nbformat_minor": 0
}
